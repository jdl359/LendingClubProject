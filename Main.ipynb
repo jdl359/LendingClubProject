{
 "cells": [
  {
   "cell_type": "markdown",
   "metadata": {},
   "source": [
    "# Final Project\n",
    "## Introduction to Business Analytics\n",
    "Spring 2017 \n",
    "***"
   ]
  },
  {
   "cell_type": "markdown",
   "metadata": {},
   "source": [
    "## Approved Applications"
   ]
  },
  {
   "cell_type": "code",
   "execution_count": 1,
   "metadata": {
    "collapsed": false
   },
   "outputs": [
    {
     "name": "stdout",
     "output_type": "stream",
     "text": [
      "Memory : 78.61 MB\n"
     ]
    }
   ],
   "source": [
    "import pandas as pd\n",
    "import numpy as np\n",
    "import matplotlib as plt\n",
    "\n",
    "# For file loading and memory monitoring\n",
    "import os\n",
    "import gc\n",
    "import psutil\n",
    "'''\n",
    "    If you get error saying no module named psutil, run this in terminal :\n",
    "    sudo su\n",
    "    pip install psutil\n",
    "'''\n",
    "\n",
    "# collect garbage and check current memory\n",
    "def collect_and_check_mem():\n",
    "    proc = psutil.Process(os.getpid())\n",
    "    gc.collect()\n",
    "    mem = proc.memory_info().rss\n",
    "    print (\"Memory : %.2f MB\" % (mem / (1000 * 1000)))\n",
    "collect_and_check_mem()"
   ]
  },
  {
   "cell_type": "code",
   "execution_count": 2,
   "metadata": {
    "collapsed": true
   },
   "outputs": [],
   "source": [
    "# data loading util\n",
    "def load_year_data(year, suffixs):\n",
    "    loans_data = pd.DataFrame()\n",
    "    for index in range(len(suffixs)):\n",
    "        suffix = suffixs[index]\n",
    "        path =\"data/loans/%s/xa%s.csv.gz\" % (year, suffix)\n",
    "        if index == 0:\n",
    "            loans_data = pd.read_csv(path, skiprows=1)\n",
    "        else:\n",
    "            frame = pd.read_csv(path, skiprows=0, names=loans_data.columns)\n",
    "            loans_data = loans_data.append(frame, ignore_index=True)\n",
    "            del frame\n",
    "    return loans_data\n",
    "# create suffix from start (e.g. 'a') to end (e.g. 'z')\n",
    "def create_suffixs(start, end):\n",
    "    return [chr(i) for i in range(ord(start), ord(end)+1)]"
   ]
  },
  {
   "cell_type": "code",
   "execution_count": 3,
   "metadata": {
    "collapsed": false
   },
   "outputs": [],
   "source": [
    "\n",
    "#df1 = pd.read_csv(\"data/loans/2007-2011/xaa.csv.gz\",skiprows=1)\n",
    "#df2 = pd.read_csv(\"data/loans/2007-2011/xab.csv.gz\",skiprows=0, names=df1.columns)\n",
    "#loans_2007_2011 = pd.concat([df1,df2])\n",
    "#loans_2007_2011.columns\n",
    "\n",
    "#Reason why memory overflow: \n",
    "#    When we do read and concat, concat actually create a copy with each data frame (data frame is immutable)\n",
    "#    So after concat at least we need to delete the data chunks and do garbage collection:\n",
    "#        del df1\n",
    "#        gc.collect()\n",
    "#    But never mind, we will use load_year_data helper which will load data for each year without keeping temporary data \n",
    "\n",
    "# 'a' to 'b' for 2007-2011\n",
    "# suffixs = create_suffixs('a', 'b')\n",
    "# loans_2007_2011 = load_year_data('2007-2011', suffixs)\n"
   ]
  },
  {
   "cell_type": "code",
   "execution_count": 4,
   "metadata": {
    "collapsed": false
   },
   "outputs": [],
   "source": [
    "# 'a' to 'g' for 2012-2013\n",
    "# suffixs = create_suffixs('a', 'g')\n",
    "# loans_2007_2011 = load_year_data('2012-2013', suffixs)"
   ]
  },
  {
   "cell_type": "code",
   "execution_count": 5,
   "metadata": {
    "collapsed": true
   },
   "outputs": [],
   "source": [
    "# 'a' to 'h' for 2014\n",
    "# suffixs = create_suffixs('a', 'h')\n",
    "# loans_2014 = load_year_data('2012-2013', suffixs)"
   ]
  },
  {
   "cell_type": "code",
   "execution_count": 6,
   "metadata": {
    "collapsed": false
   },
   "outputs": [],
   "source": [
    "# 'a' to 'o' for 2015\n",
    "# suffixs = create_suffixs('a', 'o')\n",
    "# loans_2015 = load_year_data('2015', suffixs)\n",
    "# collect_and_check_mem()\n",
    "# len(loans_2015.index)"
   ]
  },
  {
   "cell_type": "code",
   "execution_count": 7,
   "metadata": {
    "collapsed": false
   },
   "outputs": [
    {
     "name": "stderr",
     "output_type": "stream",
     "text": [
      "/usr/local/lib/python3.5/dist-packages/IPython/core/interactiveshell.py:2821: DtypeWarning: Columns (19) have mixed types. Specify dtype option on import or set low_memory=False.\n",
      "  if self.run_code(code, result):\n",
      "/usr/local/lib/python3.5/dist-packages/IPython/core/interactiveshell.py:2821: DtypeWarning: Columns (0,19) have mixed types. Specify dtype option on import or set low_memory=False.\n",
      "  if self.run_code(code, result):\n"
     ]
    },
    {
     "name": "stdout",
     "output_type": "stream",
     "text": [
      "Memory : 360.45 MB\n"
     ]
    },
    {
     "name": "stderr",
     "output_type": "stream",
     "text": [
      "/usr/local/lib/python3.5/dist-packages/IPython/core/interactiveshell.py:2821: DtypeWarning: Columns (0) have mixed types. Specify dtype option on import or set low_memory=False.\n",
      "  if self.run_code(code, result):\n"
     ]
    },
    {
     "name": "stdout",
     "output_type": "stream",
     "text": [
      "Memory : 425.78 MB\n",
      "Memory : 425.78 MB\n"
     ]
    },
    {
     "data": {
      "text/plain": [
       "237437"
      ]
     },
     "execution_count": 7,
     "metadata": {},
     "output_type": "execute_result"
    }
   ],
   "source": [
    "# Before scaling up the instance we can try small set of data\n",
    "years_info = {\n",
    "    \"2016Q1\": create_suffixs('a', 'e'), \n",
    "    #\"2016Q2\": create_suffixs('a', 'd'), \n",
    "    #\"2016Q3\": create_suffixs('a', 'd'), \n",
    "    \"2016Q4\": create_suffixs('a', 'd')\n",
    "}\n",
    "loans_2016 = pd.DataFrame()\n",
    "for year in years_info:\n",
    "    frame = load_year_data(year, years_info[year])\n",
    "    loans_2016 = loans_2016.append(frame, ignore_index=True)\n",
    "    collect_and_check_mem()\n",
    "collect_and_check_mem()\n",
    "len(loans_2016.index)"
   ]
  },
  {
   "cell_type": "code",
   "execution_count": null,
   "metadata": {
    "collapsed": false
   },
   "outputs": [],
   "source": [
    "# # Merge any years you want\n",
    "# loans_data = pd.concat([loans_2015, loans_2016])\n",
    "# collect_and_check_mem()\n",
    "\n",
    "# # IMPORTANT: remove the useless temporary frames:\n",
    "# del loans_2015\n",
    "# del loans_2016\n",
    "# collect_and_check_mem()\n",
    "# len(loans_data.index)\n",
    "\n",
    "# While the collected memory of deleted object will not be returned to OS but kept for python\n",
    "# so the memory does not go down as expected, but actually they are available:\n",
    "# reference: http://stackoverflow.com/questions/39100971/how-do-i-release-memory-used-by-a-pandas-dataframe"
   ]
  },
  {
   "cell_type": "code",
   "execution_count": 8,
   "metadata": {
    "collapsed": true
   },
   "outputs": [],
   "source": [
    "# Currenly I just use 2016:\n",
    "loans_data = loans_2016"
   ]
  },
  {
   "cell_type": "code",
   "execution_count": 14,
   "metadata": {
    "collapsed": false
   },
   "outputs": [
    {
     "data": {
      "text/plain": [
       "Index(['loan_amnt', 'funded_amnt', 'term', 'int_rate', 'installment', 'grade',\n",
       "       'sub_grade', 'home_ownership', 'annual_inc', 'verification_status',\n",
       "       'issue_d', 'loan_status', 'pymnt_plan', 'purpose', 'addr_state', 'dti',\n",
       "       'delinq_2yrs', 'inq_last_6mths', 'open_acc', 'pub_rec', 'revol_bal',\n",
       "       'total_acc', 'out_prncp', 'out_prncp_inv', 'total_pymnt',\n",
       "       'total_pymnt_inv', 'total_rec_prncp', 'total_rec_int',\n",
       "       'total_rec_late_fee', 'recoveries', 'collection_recovery_fee',\n",
       "       'last_pymnt_amnt', 'collections_12_mths_ex_med', 'policy_code',\n",
       "       'application_type', 'acc_now_delinq', 'chargeoff_within_12_mths',\n",
       "       'delinq_amnt', 'pub_rec_bankruptcies', 'tax_liens'],\n",
       "      dtype='object')"
      ]
     },
     "execution_count": 14,
     "metadata": {},
     "output_type": "execute_result"
    }
   ],
   "source": [
    "# since too many features, maybe we take out those we wanna keep:\n",
    "features_to_key = set([\n",
    "    # numerical\n",
    "    'loan_amnt', 'funded_amnt', 'annual_inc', 'installment',\n",
    "    'open_acc', 'total_acc',\n",
    "    # Some of the following line features are duplicates? Do we need them all?\n",
    "    # Say: total_pymnt = total_rec_prncp + total_rec_int\n",
    "    'total_pymnt', 'total_pymnt_inv', 'total_rec_prncp', 'total_rec_int', 'total_rec_late_fee',\n",
    "    'recoveries', 'collection_recovery_fee', \n",
    "    'last_pymnt_amnt',  \n",
    "    \n",
    "    # target ?\n",
    "    'loan_status', \n",
    "    \n",
    "    # categorical\n",
    "        #dates\n",
    "    #'last_pymnt_d', 296 NULL values for 2016Q1Q4, since we have last_pymt_amnt maybe ignore it\n",
    "    #'last_credit_pull_d', # 21 NULL values for 2016Q1Q4 same as above, maybe ignore it\n",
    "        #other\n",
    "    'verification_status', 'purpose', 'addr_state',\n",
    "    'grade', 'sub_grade', 'home_ownership', 'term',\n",
    "    \n",
    "    # special\n",
    "    #'title', # 10629 NULLs for 2016 Q1Q4 value maybe forget it\n",
    "    'issue_d', # categorical ? Dec-11\n",
    "    'int_rate', 'revol_util' # trim out percentage mark: 10.65%\n",
    "    'emp_length', # extracting number: 10+ years < 1 year\n",
    "    \n",
    "    # not sure:\n",
    "    'inq_last_6mths', 'pub_rec', 'revol_bal', 'dti', 'delinq_2yrs', \n",
    "    'pymnt_plan', 'earliest_cr_line' 'initial_list_status',\n",
    "    'out_prncp', 'out_prncp_inv',\n",
    "    'collections_12_mths_ex_med',\n",
    "    'policy_code', 'application_type',\n",
    "    'acc_now_delinq', 'chargeoff_within_12_mths', 'delinq_amnt',\n",
    "    'pub_rec_bankruptcies', 'tax_liens'\n",
    "])\n",
    "\n",
    "for column in loans_data.columns:\n",
    "    if column not in features_to_key:\n",
    "        loans_data = loans_data.drop(column, axis=1)\n",
    "loans_data.columns"
   ]
  },
  {
   "cell_type": "code",
   "execution_count": 15,
   "metadata": {
    "collapsed": false
   },
   "outputs": [
    {
     "data": {
      "text/plain": [
       "loan_amnt                     4\n",
       "funded_amnt                   4\n",
       "term                          4\n",
       "int_rate                      4\n",
       "installment                   4\n",
       "grade                         4\n",
       "sub_grade                     4\n",
       "home_ownership                4\n",
       "annual_inc                    4\n",
       "verification_status           4\n",
       "issue_d                       4\n",
       "loan_status                   4\n",
       "pymnt_plan                    4\n",
       "purpose                       4\n",
       "addr_state                    4\n",
       "dti                           4\n",
       "delinq_2yrs                   4\n",
       "inq_last_6mths                5\n",
       "open_acc                      4\n",
       "pub_rec                       4\n",
       "revol_bal                     4\n",
       "total_acc                     4\n",
       "out_prncp                     4\n",
       "out_prncp_inv                 4\n",
       "total_pymnt                   4\n",
       "total_pymnt_inv               4\n",
       "total_rec_prncp               4\n",
       "total_rec_int                 4\n",
       "total_rec_late_fee            4\n",
       "recoveries                    4\n",
       "collection_recovery_fee       4\n",
       "last_pymnt_amnt               4\n",
       "collections_12_mths_ex_med    4\n",
       "policy_code                   4\n",
       "application_type              4\n",
       "acc_now_delinq                4\n",
       "chargeoff_within_12_mths      4\n",
       "delinq_amnt                   4\n",
       "pub_rec_bankruptcies          4\n",
       "tax_liens                     4\n",
       "dtype: int64"
      ]
     },
     "execution_count": 15,
     "metadata": {},
     "output_type": "execute_result"
    }
   ],
   "source": [
    "# Check NULL\n",
    "loans_data.isnull().sum()"
   ]
  },
  {
   "cell_type": "code",
   "execution_count": 20,
   "metadata": {
    "collapsed": false
   },
   "outputs": [
    {
     "data": {
      "text/plain": [
       "237432"
      ]
     },
     "execution_count": 20,
     "metadata": {},
     "output_type": "execute_result"
    }
   ],
   "source": [
    "# Drop rows with NULL values:\n",
    "loans_data = loans_data.dropna()\n",
    "#loans_data.isnull().sum()\n",
    "len(loans_data.index)"
   ]
  },
  {
   "cell_type": "code",
   "execution_count": 19,
   "metadata": {
    "collapsed": false
   },
   "outputs": [
    {
     "data": {
      "text/html": [
       "<div>\n",
       "<table border=\"1\" class=\"dataframe\">\n",
       "  <thead>\n",
       "    <tr style=\"text-align: right;\">\n",
       "      <th></th>\n",
       "      <th>loan_amnt</th>\n",
       "      <th>funded_amnt</th>\n",
       "      <th>installment</th>\n",
       "      <th>annual_inc</th>\n",
       "      <th>dti</th>\n",
       "      <th>delinq_2yrs</th>\n",
       "      <th>inq_last_6mths</th>\n",
       "      <th>open_acc</th>\n",
       "      <th>pub_rec</th>\n",
       "      <th>revol_bal</th>\n",
       "      <th>...</th>\n",
       "      <th>recoveries</th>\n",
       "      <th>collection_recovery_fee</th>\n",
       "      <th>last_pymnt_amnt</th>\n",
       "      <th>collections_12_mths_ex_med</th>\n",
       "      <th>policy_code</th>\n",
       "      <th>acc_now_delinq</th>\n",
       "      <th>chargeoff_within_12_mths</th>\n",
       "      <th>delinq_amnt</th>\n",
       "      <th>pub_rec_bankruptcies</th>\n",
       "      <th>tax_liens</th>\n",
       "    </tr>\n",
       "  </thead>\n",
       "  <tbody>\n",
       "    <tr>\n",
       "      <th>count</th>\n",
       "      <td>237432.000000</td>\n",
       "      <td>237432.000000</td>\n",
       "      <td>237432.000000</td>\n",
       "      <td>2.374320e+05</td>\n",
       "      <td>237432.000000</td>\n",
       "      <td>237432.000000</td>\n",
       "      <td>237432.000000</td>\n",
       "      <td>237432.000000</td>\n",
       "      <td>237432.000000</td>\n",
       "      <td>2.374320e+05</td>\n",
       "      <td>...</td>\n",
       "      <td>237432.000000</td>\n",
       "      <td>237432.000000</td>\n",
       "      <td>237432.000000</td>\n",
       "      <td>237432.000000</td>\n",
       "      <td>237432.0</td>\n",
       "      <td>237432.00000</td>\n",
       "      <td>237432.000000</td>\n",
       "      <td>237432.000000</td>\n",
       "      <td>237432.000000</td>\n",
       "      <td>237432.000000</td>\n",
       "    </tr>\n",
       "    <tr>\n",
       "      <th>mean</th>\n",
       "      <td>14962.207179</td>\n",
       "      <td>14962.207179</td>\n",
       "      <td>449.053061</td>\n",
       "      <td>8.058326e+04</td>\n",
       "      <td>21.134602</td>\n",
       "      <td>0.352627</td>\n",
       "      <td>0.568521</td>\n",
       "      <td>11.949185</td>\n",
       "      <td>0.252430</td>\n",
       "      <td>1.763585e+04</td>\n",
       "      <td>...</td>\n",
       "      <td>6.214471</td>\n",
       "      <td>1.098292</td>\n",
       "      <td>1502.746316</td>\n",
       "      <td>0.021501</td>\n",
       "      <td>1.0</td>\n",
       "      <td>0.00673</td>\n",
       "      <td>0.009430</td>\n",
       "      <td>22.818057</td>\n",
       "      <td>0.138899</td>\n",
       "      <td>0.073941</td>\n",
       "    </tr>\n",
       "    <tr>\n",
       "      <th>std</th>\n",
       "      <td>9043.615916</td>\n",
       "      <td>9043.615916</td>\n",
       "      <td>270.011490</td>\n",
       "      <td>7.771421e+04</td>\n",
       "      <td>138.919001</td>\n",
       "      <td>0.929862</td>\n",
       "      <td>0.870691</td>\n",
       "      <td>5.769793</td>\n",
       "      <td>0.668555</td>\n",
       "      <td>2.477957e+04</td>\n",
       "      <td>...</td>\n",
       "      <td>138.462758</td>\n",
       "      <td>24.747863</td>\n",
       "      <td>4334.122513</td>\n",
       "      <td>0.166286</td>\n",
       "      <td>0.0</td>\n",
       "      <td>0.08710</td>\n",
       "      <td>0.112217</td>\n",
       "      <td>1000.792344</td>\n",
       "      <td>0.391568</td>\n",
       "      <td>0.459585</td>\n",
       "    </tr>\n",
       "    <tr>\n",
       "      <th>min</th>\n",
       "      <td>1000.000000</td>\n",
       "      <td>1000.000000</td>\n",
       "      <td>30.120000</td>\n",
       "      <td>0.000000e+00</td>\n",
       "      <td>-1.000000</td>\n",
       "      <td>0.000000</td>\n",
       "      <td>0.000000</td>\n",
       "      <td>1.000000</td>\n",
       "      <td>0.000000</td>\n",
       "      <td>0.000000e+00</td>\n",
       "      <td>...</td>\n",
       "      <td>0.000000</td>\n",
       "      <td>0.000000</td>\n",
       "      <td>0.000000</td>\n",
       "      <td>0.000000</td>\n",
       "      <td>1.0</td>\n",
       "      <td>0.00000</td>\n",
       "      <td>0.000000</td>\n",
       "      <td>0.000000</td>\n",
       "      <td>0.000000</td>\n",
       "      <td>0.000000</td>\n",
       "    </tr>\n",
       "    <tr>\n",
       "      <th>25%</th>\n",
       "      <td>8000.000000</td>\n",
       "      <td>8000.000000</td>\n",
       "      <td>251.580000</td>\n",
       "      <td>4.880000e+04</td>\n",
       "      <td>12.560000</td>\n",
       "      <td>0.000000</td>\n",
       "      <td>0.000000</td>\n",
       "      <td>8.000000</td>\n",
       "      <td>0.000000</td>\n",
       "      <td>6.267000e+03</td>\n",
       "      <td>...</td>\n",
       "      <td>0.000000</td>\n",
       "      <td>0.000000</td>\n",
       "      <td>263.580000</td>\n",
       "      <td>0.000000</td>\n",
       "      <td>1.0</td>\n",
       "      <td>0.00000</td>\n",
       "      <td>0.000000</td>\n",
       "      <td>0.000000</td>\n",
       "      <td>0.000000</td>\n",
       "      <td>0.000000</td>\n",
       "    </tr>\n",
       "    <tr>\n",
       "      <th>50%</th>\n",
       "      <td>13000.000000</td>\n",
       "      <td>13000.000000</td>\n",
       "      <td>381.270000</td>\n",
       "      <td>6.800000e+04</td>\n",
       "      <td>18.540000</td>\n",
       "      <td>0.000000</td>\n",
       "      <td>0.000000</td>\n",
       "      <td>11.000000</td>\n",
       "      <td>0.000000</td>\n",
       "      <td>1.164150e+04</td>\n",
       "      <td>...</td>\n",
       "      <td>0.000000</td>\n",
       "      <td>0.000000</td>\n",
       "      <td>412.820000</td>\n",
       "      <td>0.000000</td>\n",
       "      <td>1.0</td>\n",
       "      <td>0.00000</td>\n",
       "      <td>0.000000</td>\n",
       "      <td>0.000000</td>\n",
       "      <td>0.000000</td>\n",
       "      <td>0.000000</td>\n",
       "    </tr>\n",
       "    <tr>\n",
       "      <th>75%</th>\n",
       "      <td>20000.000000</td>\n",
       "      <td>20000.000000</td>\n",
       "      <td>602.300000</td>\n",
       "      <td>9.550000e+04</td>\n",
       "      <td>25.232500</td>\n",
       "      <td>0.000000</td>\n",
       "      <td>1.000000</td>\n",
       "      <td>15.000000</td>\n",
       "      <td>0.000000</td>\n",
       "      <td>2.086200e+04</td>\n",
       "      <td>...</td>\n",
       "      <td>0.000000</td>\n",
       "      <td>0.000000</td>\n",
       "      <td>682.440000</td>\n",
       "      <td>0.000000</td>\n",
       "      <td>1.0</td>\n",
       "      <td>0.00000</td>\n",
       "      <td>0.000000</td>\n",
       "      <td>0.000000</td>\n",
       "      <td>0.000000</td>\n",
       "      <td>0.000000</td>\n",
       "    </tr>\n",
       "    <tr>\n",
       "      <th>max</th>\n",
       "      <td>40000.000000</td>\n",
       "      <td>40000.000000</td>\n",
       "      <td>1584.900000</td>\n",
       "      <td>9.550000e+06</td>\n",
       "      <td>9999.000000</td>\n",
       "      <td>29.000000</td>\n",
       "      <td>5.000000</td>\n",
       "      <td>97.000000</td>\n",
       "      <td>46.000000</td>\n",
       "      <td>1.023940e+06</td>\n",
       "      <td>...</td>\n",
       "      <td>21245.020000</td>\n",
       "      <td>3824.103600</td>\n",
       "      <td>41301.780000</td>\n",
       "      <td>12.000000</td>\n",
       "      <td>1.0</td>\n",
       "      <td>6.00000</td>\n",
       "      <td>7.000000</td>\n",
       "      <td>185408.000000</td>\n",
       "      <td>9.000000</td>\n",
       "      <td>45.000000</td>\n",
       "    </tr>\n",
       "  </tbody>\n",
       "</table>\n",
       "<p>8 rows × 28 columns</p>\n",
       "</div>"
      ],
      "text/plain": [
       "           loan_amnt    funded_amnt    installment    annual_inc  \\\n",
       "count  237432.000000  237432.000000  237432.000000  2.374320e+05   \n",
       "mean    14962.207179   14962.207179     449.053061  8.058326e+04   \n",
       "std      9043.615916    9043.615916     270.011490  7.771421e+04   \n",
       "min      1000.000000    1000.000000      30.120000  0.000000e+00   \n",
       "25%      8000.000000    8000.000000     251.580000  4.880000e+04   \n",
       "50%     13000.000000   13000.000000     381.270000  6.800000e+04   \n",
       "75%     20000.000000   20000.000000     602.300000  9.550000e+04   \n",
       "max     40000.000000   40000.000000    1584.900000  9.550000e+06   \n",
       "\n",
       "                 dti    delinq_2yrs  inq_last_6mths       open_acc  \\\n",
       "count  237432.000000  237432.000000   237432.000000  237432.000000   \n",
       "mean       21.134602       0.352627        0.568521      11.949185   \n",
       "std       138.919001       0.929862        0.870691       5.769793   \n",
       "min        -1.000000       0.000000        0.000000       1.000000   \n",
       "25%        12.560000       0.000000        0.000000       8.000000   \n",
       "50%        18.540000       0.000000        0.000000      11.000000   \n",
       "75%        25.232500       0.000000        1.000000      15.000000   \n",
       "max      9999.000000      29.000000        5.000000      97.000000   \n",
       "\n",
       "             pub_rec     revol_bal      ...           recoveries  \\\n",
       "count  237432.000000  2.374320e+05      ...        237432.000000   \n",
       "mean        0.252430  1.763585e+04      ...             6.214471   \n",
       "std         0.668555  2.477957e+04      ...           138.462758   \n",
       "min         0.000000  0.000000e+00      ...             0.000000   \n",
       "25%         0.000000  6.267000e+03      ...             0.000000   \n",
       "50%         0.000000  1.164150e+04      ...             0.000000   \n",
       "75%         0.000000  2.086200e+04      ...             0.000000   \n",
       "max        46.000000  1.023940e+06      ...         21245.020000   \n",
       "\n",
       "       collection_recovery_fee  last_pymnt_amnt  collections_12_mths_ex_med  \\\n",
       "count            237432.000000    237432.000000               237432.000000   \n",
       "mean                  1.098292      1502.746316                    0.021501   \n",
       "std                  24.747863      4334.122513                    0.166286   \n",
       "min                   0.000000         0.000000                    0.000000   \n",
       "25%                   0.000000       263.580000                    0.000000   \n",
       "50%                   0.000000       412.820000                    0.000000   \n",
       "75%                   0.000000       682.440000                    0.000000   \n",
       "max                3824.103600     41301.780000                   12.000000   \n",
       "\n",
       "       policy_code  acc_now_delinq  chargeoff_within_12_mths    delinq_amnt  \\\n",
       "count     237432.0    237432.00000             237432.000000  237432.000000   \n",
       "mean           1.0         0.00673                  0.009430      22.818057   \n",
       "std            0.0         0.08710                  0.112217    1000.792344   \n",
       "min            1.0         0.00000                  0.000000       0.000000   \n",
       "25%            1.0         0.00000                  0.000000       0.000000   \n",
       "50%            1.0         0.00000                  0.000000       0.000000   \n",
       "75%            1.0         0.00000                  0.000000       0.000000   \n",
       "max            1.0         6.00000                  7.000000  185408.000000   \n",
       "\n",
       "       pub_rec_bankruptcies      tax_liens  \n",
       "count         237432.000000  237432.000000  \n",
       "mean               0.138899       0.073941  \n",
       "std                0.391568       0.459585  \n",
       "min                0.000000       0.000000  \n",
       "25%                0.000000       0.000000  \n",
       "50%                0.000000       0.000000  \n",
       "75%                0.000000       0.000000  \n",
       "max                9.000000      45.000000  \n",
       "\n",
       "[8 rows x 28 columns]"
      ]
     },
     "execution_count": 19,
     "metadata": {},
     "output_type": "execute_result"
    }
   ],
   "source": [
    "loans_data.describe()"
   ]
  },
  {
   "cell_type": "markdown",
   "metadata": {},
   "source": [
    "## Rejected applications (deprecated)"
   ]
  },
  {
   "cell_type": "code",
   "execution_count": null,
   "metadata": {
    "collapsed": false
   },
   "outputs": [],
   "source": [
    "import pandas as pd\n",
    "import numpy as np\n",
    "import matplotlib as plt\n",
    "\n",
    "reject_2007_2012 = pd.read_csv(\"data/rejected/2007-2012/RejectStatsA.csv.gz\",skiprows=1)\n",
    "\n",
    "#df1 = pd.read_csv(\"data/rejected/2013-2014/xaa.csv.gz\",skiprows=1)\n",
    "#df2 = pd.read_csv(\"data/rejected/2013-2014/xab.csv.gz\",skiprows=0,names=df1.columns)\n",
    "#reject_2013_2014 = pd.concat([df1,df2])\n",
    "\n",
    "#df2 = pd.read_csv(\"data/rejected/2015/xaa.csv.gz\",skiprows=1)\n",
    "#df2 = pd.read_csv(\"data/rejected/2015/xab.csv.gz\",skiprows=0, names=df1.columns)\n",
    "#reject_2015 = pd.concat([df1,df2])\n",
    "\n",
    "#reject_2016Q1 = pd.read_csv(\"data/rejected/2016Q1/RejectStats_2016Q1.csv.gz\",skiprows=1)\n",
    "\n",
    "#reject_2016Q2 = pd.read_csv(\"data/rejected/2016Q2/RejectStats_2016Q2.csv.gz\",skiprows=1)\n",
    "\n",
    "#reject_2016Q3 = pd.read_csv(\"data/rejected/2016Q3/RejectStats_2016Q3.csv.gz\",skiprows=1)\n",
    "\n",
    "#reject_2016Q4 = pd.read_csv(\"data/rejected/2016Q4/RejectStats_2016Q4.csv.gz\",skiprows=1)\n",
    "\n",
    "\n"
   ]
  },
  {
   "cell_type": "code",
   "execution_count": null,
   "metadata": {
    "collapsed": false
   },
   "outputs": [],
   "source": [
    "reject_2007_2012.columns"
   ]
  },
  {
   "cell_type": "code",
   "execution_count": null,
   "metadata": {
    "collapsed": false
   },
   "outputs": [],
   "source": [
    "reject_2007_2012.describe()"
   ]
  },
  {
   "cell_type": "code",
   "execution_count": null,
   "metadata": {
    "collapsed": true
   },
   "outputs": [],
   "source": []
  }
 ],
 "metadata": {
  "kernelspec": {
   "display_name": "Python 3",
   "language": "python",
   "name": "python3"
  },
  "language_info": {
   "codemirror_mode": {
    "name": "ipython",
    "version": 3
   },
   "file_extension": ".py",
   "mimetype": "text/x-python",
   "name": "python",
   "nbconvert_exporter": "python",
   "pygments_lexer": "ipython3",
   "version": "3.5.2"
  }
 },
 "nbformat": 4,
 "nbformat_minor": 2
}
