{
 "cells": [
  {
   "cell_type": "markdown",
   "metadata": {},
   "source": [
    "# Final Project\n",
    "## Introduction to Business Analytics\n",
    "Spring 2017 \n",
    "***"
   ]
  },
  {
   "cell_type": "markdown",
   "metadata": {},
   "source": [
    "### Introduction\n",
    "\n",
    "Lending Club is an online credit marketplace that facilitates peer to peer lending by matching up investors and borrowers. Potential borrowers sign up to Lending Club and go through a quick approval process that allows them to request a personal, business, or medical loan.  Investors then make offers to borrowers based on their credit ratings and Lending Club’s suggested interest rates. Borrowers then begin to accept offers and have 15 days to reach a cumulative amount of at least 75% of their requested loan. The risk assessment process is automated and borrowers can begin to receive loan offers within minutes. (Lendingclub.com)\n",
    "\n",
    "### The Business Problem\n",
    "\n",
    "Unlike most banks and traditional lenders, Lending Club has a very flexible prepayment policy. Borrowers can prepay their loan at any time and without incurring a fee. Furthermore, investor fees may be reduced depending on the timing of the prepayment. Investors pay a payment processing fee equal to 1% of their monthly payment. If the loan is prepaid within the first 12 months then the investor only pays 1% of the contractual monthly payment and no fee is paid on the prepaid portion of the loan. However, if the loan is prepaid after the first 12 months then the investor pays a fee of 1% of the entire payment. In other words, if the borrower prepays during the first 12 months, Lending Club will only receive up to 33% and 20% of the total fee on a three- and five-year loan, respectively. If a loan is prepaid after the first 12 months then Lending Club will receive the entire fee. (For simplicity, we assume that any prepayments done during the first 12 months occur at the end of the 12th month.)\n",
    "\n",
    "Prepayments can represent a significant loss in revenue for Lending Club. In its last 10-K, Lending Club reported service fees of 11.5m, 32.8m, and 68.0m dollars for 2014, 2015, and 2016, respectively. Additionally, data analysis shows that approximately X% of loans initiated in 201X were prepaid. This translates into a loss of up to XXM dollars for Lending club in 201X.\n",
    "    \n",
    "As Lending Club grows, the number of loans increase as do the number of prepayments. One solution to the problem is to implement a dynamic prepayment policy that would charge the borrower a prepayment fee based on the probability that the borrower prepays the loan. Lending club could maintain the 0% fee for borrowers less likely to prepay and charge a 1% fee for borrowers more likely to prepay. That way, in addition to protecting itself from a loss, Lending Club would make up to 33% more in fees on loans that were prepaid within the first 12 months."
   ]
  },
  {
   "cell_type": "markdown",
   "metadata": {},
   "source": [
    "### Notes\n",
    "\n",
    "The Data\n",
    "\n",
    "•\tPlease provide some notes (bullets are fine) on the features we selected… I’ll add the discussion about the timing\n",
    "\n",
    "The Target Variable\n",
    "\n",
    "•\tPlease provide the details on how we derive the target feature from current features.\n",
    "\n",
    "Notes for profit curve to be done later:\n",
    "1.\tAssume 100 dollar loan\n",
    "2.\tAssume a probability that a borrower will not take out a loan if they have to pay a prepayment fee – this will represent a potential loss\n",
    "3.\tAssume a fee of 0% or 1%\n",
    "\n",
    "Short cut cheatsheet: https://gist.github.com/kidpixo/f4318f8c8143adee5b40"
   ]
  },
  {
   "cell_type": "markdown",
   "metadata": {},
   "source": [
    "## Approved Applications"
   ]
  },
  {
   "cell_type": "code",
   "execution_count": 1,
   "metadata": {
    "collapsed": false
   },
   "outputs": [
    {
     "name": "stdout",
     "output_type": "stream",
     "text": [
      "Memory : 81.36 MB\n"
     ]
    }
   ],
   "source": [
    "import pandas as pd\n",
    "import numpy as np\n",
    "import matplotlib as plt\n",
    "\n",
    "# For file loading and memory monitoring\n",
    "import os\n",
    "import gc\n",
    "import psutil\n",
    "'''\n",
    "    If you get error saying no module named psutil, run this in terminal :\n",
    "    sudo su\n",
    "    pip install psutil\n",
    "'''\n",
    "\n",
    "# collect garbage and check current memory\n",
    "def collect_and_check_mem():\n",
    "    proc = psutil.Process(os.getpid())\n",
    "    gc.collect()\n",
    "    mem = proc.memory_info().rss\n",
    "    print (\"Memory : %.2f MB\" % (mem / (1000 * 1000)))\n",
    "collect_and_check_mem()"
   ]
  },
  {
   "cell_type": "code",
   "execution_count": 2,
   "metadata": {
    "collapsed": true
   },
   "outputs": [],
   "source": [
    "# data loading util\n",
    "def load_year_data(year, suffixs):\n",
    "    loans_data = pd.DataFrame()\n",
    "    for index in range(len(suffixs)):\n",
    "        suffix = suffixs[index]\n",
    "        path =\"data/loans/%s/xa%s.csv.gz\" % (year, suffix)\n",
    "        if index == 0:\n",
    "            loans_data = pd.read_csv(path, skiprows=1)\n",
    "        else:\n",
    "            frame = pd.read_csv(path, skiprows=0, names=loans_data.columns)\n",
    "            loans_data = loans_data.append(frame, ignore_index=True)\n",
    "            del frame\n",
    "    return loans_data\n",
    "# create suffix from start (e.g. 'a') to end (e.g. 'z')\n",
    "def create_suffixs(start, end):\n",
    "    return [chr(i) for i in range(ord(start), ord(end)+1)]"
   ]
  },
  {
   "cell_type": "code",
   "execution_count": 3,
   "metadata": {
    "collapsed": false
   },
   "outputs": [],
   "source": [
    "\n",
    "#df1 = pd.read_csv(\"data/loans/2007-2011/xaa.csv.gz\",skiprows=1)\n",
    "#df2 = pd.read_csv(\"data/loans/2007-2011/xab.csv.gz\",skiprows=0, names=df1.columns)\n",
    "#loans_2007_2011 = pd.concat([df1,df2])\n",
    "#loans_2007_2011.columns\n",
    "\n",
    "#Reason why memory overflow: \n",
    "#    When we do read and concat, concat actually create a copy with each data frame (data frame is immutable)\n",
    "#    So after concat at least we need to delete the data chunks and do garbage collection:\n",
    "#        del df1\n",
    "#        gc.collect()\n",
    "#    But never mind, we will use load_year_data helper which will load data for each year without keeping temporary data \n",
    "\n",
    "# 'a' to 'b' for 2007-2011\n",
    "# suffixs = create_suffixs('a', 'b')\n",
    "# loans_2007_2011 = load_year_data('2007-2011', suffixs)\n"
   ]
  },
  {
   "cell_type": "code",
   "execution_count": 4,
   "metadata": {
    "collapsed": false
   },
   "outputs": [],
   "source": [
    "# 'a' to 'g' for 2012-2013\n",
    "# suffixs = create_suffixs('a', 'g')\n",
    "# loans_2007_2011 = load_year_data('2012-2013', suffixs)"
   ]
  },
  {
   "cell_type": "code",
   "execution_count": 5,
   "metadata": {
    "collapsed": true
   },
   "outputs": [],
   "source": [
    "# 'a' to 'h' for 2014\n",
    "# suffixs = create_suffixs('a', 'h')\n",
    "# loans_2014 = load_year_data('2012-2013', suffixs)"
   ]
  },
  {
   "cell_type": "code",
   "execution_count": 6,
   "metadata": {
    "collapsed": false
   },
   "outputs": [
    {
     "name": "stderr",
     "output_type": "stream",
     "text": [
      "/usr/local/lib/python3.5/dist-packages/IPython/core/interactiveshell.py:2821: DtypeWarning: Columns (19) have mixed types. Specify dtype option on import or set low_memory=False.\n",
      "  if self.run_code(code, result):\n",
      "/usr/local/lib/python3.5/dist-packages/IPython/core/interactiveshell.py:2821: DtypeWarning: Columns (55) have mixed types. Specify dtype option on import or set low_memory=False.\n",
      "  if self.run_code(code, result):\n"
     ]
    },
    {
     "name": "stdout",
     "output_type": "stream",
     "text": [
      "Memory : 584.86 MB\n"
     ]
    },
    {
     "data": {
      "text/plain": [
       "421097"
      ]
     },
     "execution_count": 6,
     "metadata": {},
     "output_type": "execute_result"
    }
   ],
   "source": [
    "# 'a' to 'o' for 2015\n",
    "suffixs = create_suffixs('a', 'o')\n",
    "loans_2015 = load_year_data('2015', suffixs)\n",
    "collect_and_check_mem()\n",
    "len(loans_2015.index)"
   ]
  },
  {
   "cell_type": "code",
   "execution_count": 7,
   "metadata": {
    "collapsed": false
   },
   "outputs": [],
   "source": [
    "# Before scaling up the instance we can try small set of data\n",
    "# years_info = {\n",
    "#     \"2016Q1\": create_suffixs('a', 'e'), \n",
    "#     #\"2016Q2\": create_suffixs('a', 'd'), \n",
    "#     #\"2016Q3\": create_suffixs('a', 'd'), \n",
    "#     \"2016Q4\": create_suffixs('a', 'd')\n",
    "# }\n",
    "# loans_2016 = pd.DataFrame()\n",
    "# for year in years_info:\n",
    "#     frame = load_year_data(year, years_info[year])\n",
    "#     loans_2016 = loans_2016.append(frame, ignore_index=True)\n",
    "#     collect_and_check_mem()\n",
    "# collect_and_check_mem()\n",
    "# len(loans_2016.index)"
   ]
  },
  {
   "cell_type": "code",
   "execution_count": 8,
   "metadata": {
    "collapsed": false
   },
   "outputs": [],
   "source": [
    "# # Merge any years you want\n",
    "# loans_data = pd.concat([loans_2015, loans_2016])\n",
    "# collect_and_check_mem()\n",
    "\n",
    "# # IMPORTANT: remove the useless temporary frames:\n",
    "# del loans_2015\n",
    "# del loans_2016\n",
    "# collect_and_check_mem()\n",
    "# len(loans_data.index)\n",
    "\n",
    "# While the collected memory of deleted object will not be returned to OS but kept for python\n",
    "# so the memory does not go down as expected, but actually they are available:\n",
    "# reference: http://stackoverflow.com/questions/39100971/how-do-i-release-memory-used-by-a-pandas-dataframe"
   ]
  },
  {
   "cell_type": "code",
   "execution_count": 9,
   "metadata": {
    "collapsed": true
   },
   "outputs": [],
   "source": [
    "# Rename it to loans_data\n",
    "loans_data = loans_2015"
   ]
  },
  {
   "cell_type": "code",
   "execution_count": 10,
   "metadata": {
    "collapsed": false
   },
   "outputs": [
    {
     "data": {
      "text/plain": [
       "Index(['loan_amnt', 'funded_amnt', 'term', 'int_rate', 'installment', 'grade',\n",
       "       'sub_grade', 'home_ownership', 'annual_inc', 'verification_status',\n",
       "       'issue_d', 'loan_status', 'pymnt_plan', 'purpose', 'addr_state', 'dti',\n",
       "       'delinq_2yrs', 'inq_last_6mths', 'open_acc', 'pub_rec', 'revol_bal',\n",
       "       'total_acc', 'out_prncp', 'out_prncp_inv', 'total_pymnt',\n",
       "       'total_pymnt_inv', 'total_rec_prncp', 'total_rec_int',\n",
       "       'total_rec_late_fee', 'recoveries', 'collection_recovery_fee',\n",
       "       'last_pymnt_d', 'last_pymnt_amnt', 'collections_12_mths_ex_med',\n",
       "       'policy_code', 'application_type', 'acc_now_delinq',\n",
       "       'chargeoff_within_12_mths', 'delinq_amnt', 'pub_rec_bankruptcies',\n",
       "       'tax_liens'],\n",
       "      dtype='object')"
      ]
     },
     "execution_count": 10,
     "metadata": {},
     "output_type": "execute_result"
    }
   ],
   "source": [
    "# since too many features, maybe we take out those we wanna keep:\n",
    "features_to_keep = set([\n",
    "    # numerical\n",
    "    'loan_amnt', 'funded_amnt', 'annual_inc', 'installment',\n",
    "    'open_acc', 'total_acc',\n",
    "        # Some of the following line features are duplicates? Do we need them all?\n",
    "        # Say: total_pymnt = total_rec_prncp + total_rec_int\n",
    "    'total_pymnt', 'total_pymnt_inv', 'total_rec_prncp', 'total_rec_int', 'total_rec_late_fee',\n",
    "    'recoveries', 'collection_recovery_fee', \n",
    "    'last_pymnt_amnt',  \n",
    "    \n",
    "    # features used to extract target and drop once that done\n",
    "    'loan_status',\n",
    "    'last_pymnt_d', # used to extract target\n",
    "    'issue_d', # categorical ? Dec-11\n",
    "    \n",
    "    # categorical\n",
    "        #date\n",
    "    'last_credit_pull_d', # 21 NULL values for 2016Q1Q4 same as above, maybe ignore it\n",
    "        #other\n",
    "    'verification_status', 'purpose', 'addr_state',\n",
    "    'grade', 'sub_grade', 'home_ownership', 'term',\n",
    "    \n",
    "    # special\n",
    "    #'title', # 10629 NULLs for 2016 Q1Q4 value maybe forget it\n",
    "    \n",
    "    'int_rate', 'revol_util' # trim out percentage mark: 10.65%\n",
    "    'emp_length', # extracting number: 10+ years < 1 year\n",
    "    \n",
    "    # not sure:\n",
    "    'inq_last_6mths', 'pub_rec', 'revol_bal', 'dti', 'delinq_2yrs', \n",
    "    'pymnt_plan', 'earliest_cr_line' 'initial_list_status',\n",
    "    'out_prncp', 'out_prncp_inv',\n",
    "    'collections_12_mths_ex_med',\n",
    "    'policy_code', 'application_type',\n",
    "    'acc_now_delinq', 'chargeoff_within_12_mths', 'delinq_amnt',\n",
    "    'pub_rec_bankruptcies', 'tax_liens'\n",
    "])\n",
    "\n",
    "for column in loans_data.columns:\n",
    "    if column not in features_to_keep:\n",
    "        loans_data = loans_data.drop(column, axis=1)\n",
    "loans_data.columns"
   ]
  },
  {
   "cell_type": "code",
   "execution_count": 11,
   "metadata": {
    "collapsed": false
   },
   "outputs": [
    {
     "data": {
      "text/plain": [
       "loan_amnt                       2\n",
       "funded_amnt                     2\n",
       "term                            2\n",
       "int_rate                        2\n",
       "installment                     2\n",
       "grade                           2\n",
       "sub_grade                       2\n",
       "home_ownership                  2\n",
       "annual_inc                      2\n",
       "verification_status             2\n",
       "issue_d                         2\n",
       "loan_status                     2\n",
       "pymnt_plan                      2\n",
       "purpose                         2\n",
       "addr_state                      2\n",
       "dti                             2\n",
       "delinq_2yrs                     2\n",
       "inq_last_6mths                  2\n",
       "open_acc                        2\n",
       "pub_rec                         2\n",
       "revol_bal                       2\n",
       "total_acc                       2\n",
       "out_prncp                       2\n",
       "out_prncp_inv                   2\n",
       "total_pymnt                     2\n",
       "total_pymnt_inv                 2\n",
       "total_rec_prncp                 2\n",
       "total_rec_int                   2\n",
       "total_rec_late_fee              2\n",
       "recoveries                      2\n",
       "collection_recovery_fee         2\n",
       "last_pymnt_d                  296\n",
       "last_pymnt_amnt                 2\n",
       "collections_12_mths_ex_med      2\n",
       "policy_code                     2\n",
       "application_type                2\n",
       "acc_now_delinq                  2\n",
       "chargeoff_within_12_mths        2\n",
       "delinq_amnt                     2\n",
       "pub_rec_bankruptcies            2\n",
       "tax_liens                       2\n",
       "dtype: int64"
      ]
     },
     "execution_count": 11,
     "metadata": {},
     "output_type": "execute_result"
    }
   ],
   "source": [
    "# Check NULL\n",
    "loans_data.isnull().sum()"
   ]
  },
  {
   "cell_type": "code",
   "execution_count": 13,
   "metadata": {
    "collapsed": false,
    "scrolled": true
   },
   "outputs": [
    {
     "data": {
      "text/plain": [
       "420801"
      ]
     },
     "execution_count": 13,
     "metadata": {},
     "output_type": "execute_result"
    }
   ],
   "source": [
    "# Drop rows with NULL values:\n",
    "loans_data = loans_data.dropna()\n",
    "total_num = len(loans_data.index)\n",
    "#loans_data.isnull().sum()\n",
    "total_num"
   ]
  },
  {
   "cell_type": "code",
   "execution_count": 14,
   "metadata": {
    "collapsed": false
   },
   "outputs": [
    {
     "data": {
      "text/plain": [
       "array([' 60 months', ' 36 months'], dtype=object)"
      ]
     },
     "execution_count": 14,
     "metadata": {},
     "output_type": "execute_result"
    }
   ],
   "source": [
    "loans_data[\"term\"].unique()"
   ]
  },
  {
   "cell_type": "code",
   "execution_count": 15,
   "metadata": {
    "collapsed": false,
    "scrolled": true
   },
   "outputs": [
    {
     "data": {
      "text/plain": [
       "array(['Feb-2017', 'Jun-2016', 'Oct-2016', 'Jul-2016', 'Nov-2016',\n",
       "       'Jan-2017', 'Dec-2016', 'Apr-2016', 'Aug-2016', 'Mar-2016',\n",
       "       'Sep-2016', 'May-2016', 'Feb-2016', 'Jan-2016', 'Dec-2015',\n",
       "       'Nov-2015', 'Oct-2015', 'Sep-2015', 'Aug-2015', 'Jul-2015',\n",
       "       'Jun-2015', 'May-2015', 'Apr-2015', 'Mar-2015', 'Feb-2015',\n",
       "       'Jan-2015'], dtype=object)"
      ]
     },
     "execution_count": 15,
     "metadata": {},
     "output_type": "execute_result"
    }
   ],
   "source": [
    "loans_data[\"last_pymnt_d\"].unique()"
   ]
  },
  {
   "cell_type": "code",
   "execution_count": 16,
   "metadata": {
    "collapsed": false
   },
   "outputs": [
    {
     "data": {
      "text/plain": [
       "array(['Dec-2015', 'Nov-2015', 'Oct-2015', 'Sep-2015', 'Aug-2015',\n",
       "       'Jul-2015', 'Jun-2015', 'May-2015', 'Apr-2015', 'Mar-2015',\n",
       "       'Feb-2015', 'Jan-2015'], dtype=object)"
      ]
     },
     "execution_count": 16,
     "metadata": {},
     "output_type": "execute_result"
    }
   ],
   "source": [
    "loans_data[\"issue_d\"].unique()"
   ]
  },
  {
   "cell_type": "code",
   "execution_count": 17,
   "metadata": {
    "collapsed": false
   },
   "outputs": [
    {
     "data": {
      "text/plain": [
       "array(['Current', 'Fully Paid', 'Default', 'Charged Off',\n",
       "       'Late (16-30 days)', 'Late (31-120 days)', 'In Grace Period'], dtype=object)"
      ]
     },
     "execution_count": 17,
     "metadata": {},
     "output_type": "execute_result"
    }
   ],
   "source": [
    "loans_data[\"loan_status\"].unique()"
   ]
  },
  {
   "cell_type": "code",
   "execution_count": 19,
   "metadata": {
    "collapsed": false
   },
   "outputs": [
    {
     "name": "stdout",
     "output_type": "stream",
     "text": [
      "Memory : 666.29 MB\n",
      "2015-11-01 00:00:00\n",
      "2016-11-01 00:00:00\n",
      "366\n",
      "Memory : 666.29 MB\n",
      "2015-10-01 00:00:00\n",
      "2016-01-01 00:00:00\n",
      "92\n",
      "Memory : 666.29 MB\n",
      "2015-04-01 00:00:00\n",
      "2015-06-01 00:00:00\n",
      "61\n",
      "Prepaid: 50629 out of Fully Paid: 94968\n"
     ]
    }
   ],
   "source": [
    "from datetime import datetime\n",
    "from random import randint\n",
    "\n",
    "fully_paid = 0\n",
    "pre_paid = 0 # within 366 days\n",
    "pre_paid_relaxed = 0\n",
    "Y = [] # pre_paid : 1   not pre_paid : 0\n",
    "sample = 5\n",
    "for index in range(total_num):\n",
    "    df = loans_data.iloc[index]\n",
    "    if df[\"loan_status\"] == \"Fully Paid\":\n",
    "        fully_paid += 1\n",
    "        time1 = datetime.strptime(df[\"issue_d\"], '%b-%Y')\n",
    "        time2 = datetime.strptime(df[\"last_pymnt_d\"], '%b-%Y')\n",
    "        diff = abs(time1 - time2).days\n",
    "        if diff < 366:\n",
    "            pre_paid += 1\n",
    "        if diff < 400:\n",
    "            pre_paid_relaxed += 1\n",
    "        if sample > 0 and randint(0, total_num) < 10:\n",
    "            collect_and_check_mem()\n",
    "            print(time1)\n",
    "            print(time2)\n",
    "            print(diff)\n",
    "            sample -= 1\n",
    "            \n",
    "        Y.append(1 if diff < 400 else 0)\n",
    "print(\"Prepaid: %d out of Fully Paid: %d\" % (pre_paid, fully_paid))"
   ]
  },
  {
   "cell_type": "code",
   "execution_count": 20,
   "metadata": {
    "collapsed": false
   },
   "outputs": [
    {
     "data": {
      "text/plain": [
       "61854"
      ]
     },
     "execution_count": 20,
     "metadata": {},
     "output_type": "execute_result"
    }
   ],
   "source": [
    "pre_paid_relaxed"
   ]
  },
  {
   "cell_type": "code",
   "execution_count": null,
   "metadata": {
    "collapsed": false
   },
   "outputs": [],
   "source": []
  },
  {
   "cell_type": "markdown",
   "metadata": {},
   "source": [
    "## Rejected applications (deprecated)"
   ]
  },
  {
   "cell_type": "code",
   "execution_count": null,
   "metadata": {
    "collapsed": false
   },
   "outputs": [],
   "source": [
    "import pandas as pd\n",
    "import numpy as np\n",
    "import matplotlib as plt\n",
    "\n",
    "reject_2007_2012 = pd.read_csv(\"data/rejected/2007-2012/RejectStatsA.csv.gz\",skiprows=1)\n",
    "\n",
    "#df1 = pd.read_csv(\"data/rejected/2013-2014/xaa.csv.gz\",skiprows=1)\n",
    "#df2 = pd.read_csv(\"data/rejected/2013-2014/xab.csv.gz\",skiprows=0,names=df1.columns)\n",
    "#reject_2013_2014 = pd.concat([df1,df2])\n",
    "\n",
    "#df2 = pd.read_csv(\"data/rejected/2015/xaa.csv.gz\",skiprows=1)\n",
    "#df2 = pd.read_csv(\"data/rejected/2015/xab.csv.gz\",skiprows=0, names=df1.columns)\n",
    "#reject_2015 = pd.concat([df1,df2])\n",
    "\n",
    "#reject_2016Q1 = pd.read_csv(\"data/rejected/2016Q1/RejectStats_2016Q1.csv.gz\",skiprows=1)\n",
    "\n",
    "#reject_2016Q2 = pd.read_csv(\"data/rejected/2016Q2/RejectStats_2016Q2.csv.gz\",skiprows=1)\n",
    "\n",
    "#reject_2016Q3 = pd.read_csv(\"data/rejected/2016Q3/RejectStats_2016Q3.csv.gz\",skiprows=1)\n",
    "\n",
    "#reject_2016Q4 = pd.read_csv(\"data/rejected/2016Q4/RejectStats_2016Q4.csv.gz\",skiprows=1)\n",
    "\n",
    "\n"
   ]
  },
  {
   "cell_type": "code",
   "execution_count": null,
   "metadata": {
    "collapsed": false
   },
   "outputs": [],
   "source": [
    "reject_2007_2012.columns"
   ]
  },
  {
   "cell_type": "code",
   "execution_count": null,
   "metadata": {
    "collapsed": false
   },
   "outputs": [],
   "source": [
    "reject_2007_2012.describe()"
   ]
  },
  {
   "cell_type": "code",
   "execution_count": null,
   "metadata": {
    "collapsed": true
   },
   "outputs": [],
   "source": []
  }
 ],
 "metadata": {
  "kernelspec": {
   "display_name": "Python 3",
   "language": "python",
   "name": "python3"
  },
  "language_info": {
   "codemirror_mode": {
    "name": "ipython",
    "version": 3
   },
   "file_extension": ".py",
   "mimetype": "text/x-python",
   "name": "python",
   "nbconvert_exporter": "python",
   "pygments_lexer": "ipython3",
   "version": "3.5.2"
  }
 },
 "nbformat": 4,
 "nbformat_minor": 2
}
