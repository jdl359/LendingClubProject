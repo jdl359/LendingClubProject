{
 "cells": [
  {
   "cell_type": "markdown",
   "metadata": {},
   "source": [
    "# Introduction to Business Analytics: Final Project \n",
    "Spring 2017 \n",
    "***"
   ]
  },
  {
   "cell_type": "markdown",
   "metadata": {},
   "source": [
    "## Introduction\n",
    "\n",
    "Lending Club is an online credit marketplace that facilitates peer to peer lending by matching up investors and borrowers. Potential borrowers sign up to Lending Club and go through a quick approval process that allows them to request a personal, business, or medical loan.  Investors then make offers to borrowers based on their credit ratings and Lending Club’s suggested interest rates. Borrowers then begin to accept offers and have 15 days to reach a cumulative amount of at least 75% of their requested loan. The risk assessment process is automated and borrowers can begin to receive loan offers within minutes. (Lendingclub.com)\n",
    "\n",
    "## The Business Problem\n",
    "\n",
    "Unlike most banks and traditional lenders, Lending Club has a very flexible prepayment policy. Borrowers can prepay their loan at any time and without incurring a fee. Furthermore, investor fees may be reduced depending on the timing of the prepayment. Investors pay a payment processing fee equal to 1% of their monthly payment. If the loan is prepaid within the first 12 months then the investor only pays 1% of the contractual monthly payment and no fee is paid on the prepaid portion of the loan. However, if the loan is prepaid after the first 12 months then the investor pays a fee of 1% of the entire payment. In other words, if the borrower prepays during the first 12 months, Lending Club will only receive up to 33% and 20% of the total fee on a three- and five-year loan, respectively. If a loan is prepaid after the first 12 months then Lending Club will receive the entire fee. (For simplicity, we assume that any prepayments done during the first 12 months occur at the end of the 12th month.)\n",
    "\n",
    "Prepayments can represent a significant loss in revenue for Lending Club. In its last 10-K, Lending Club reported service fees of 11.5m, 32.8m, and 68.0m dollars for 2014, 2015, and 2016, respectively. Additionally, data analysis shows that approximately X% of loans initiated in 201X were prepaid. This translates into a loss of up to XXM dollars for Lending club in 201X.\n",
    "    \n",
    "As Lending Club grows, the number of loans increase as do the number of prepayments. One solution to the problem is to implement a dynamic prepayment policy that would charge the borrower a prepayment fee based on the probability that the borrower prepays the loan. Lending club could maintain the 0% fee for borrowers less likely to prepay and charge a 1% fee for borrowers more likely to prepay. That way, in addition to protecting itself from a loss, Lending Club would make up to 33% more in fees on loans that were prepaid within the first 12 months."
   ]
  },
  {
   "cell_type": "markdown",
   "metadata": {},
   "source": [
    "## Data understanding\n",
    "\n",
    "The Data\n",
    "\n",
    "•\tPlease provide some notes (bullets are fine) on the features we selected… I’ll add the discussion about the timing\n",
    "\n",
    "The Target Variable\n",
    "\n",
    "•\tPlease provide the details on how we derive the target feature from current features.\n",
    "\n",
    "Notes for profit curve to be done later:\n",
    "1.\tAssume 100 dollar loan\n",
    "2.\tAssume a probability that a borrower will not take out a loan if they have to pay a prepayment fee – this will represent a potential loss\n",
    "3.\tAssume a fee of 0% or 1%\n",
    "\n",
    "Short cut cheatsheet: https://gist.github.com/kidpixo/f4318f8c8143adee5b40"
   ]
  },
  {
   "cell_type": "markdown",
   "metadata": {},
   "source": [
    "## Data Preparation"
   ]
  },
  {
   "cell_type": "markdown",
   "metadata": {},
   "source": [
    "### Load data"
   ]
  },
  {
   "cell_type": "code",
   "execution_count": 1,
   "metadata": {
    "scrolled": true
   },
   "outputs": [
    {
     "name": "stdout",
     "output_type": "stream",
     "text": [
      "Memory : 58.00 MB\n"
     ]
    }
   ],
   "source": [
    "import pandas as pd\n",
    "import numpy as np\n",
    "import matplotlib as plt\n",
    "\n",
    "# For file loading and memory monitoring\n",
    "import os\n",
    "import gc\n",
    "import psutil\n",
    "'''\n",
    "    If you get error saying no module named psutil, run this in terminal :\n",
    "    sudo su\n",
    "    pip install psutil\n",
    "'''\n",
    "\n",
    "# collect garbage and check current memory\n",
    "def collect_and_check_mem():\n",
    "    proc = psutil.Process(os.getpid())\n",
    "    gc.collect()\n",
    "    mem = proc.memory_info().rss\n",
    "    print (\"Memory : %.2f MB\" % (mem / (1000 * 1000)))\n",
    "collect_and_check_mem()"
   ]
  },
  {
   "cell_type": "code",
   "execution_count": 2,
   "metadata": {
    "collapsed": true
   },
   "outputs": [],
   "source": [
    "# data loading util\n",
    "def load_year_data(year, suffixs):\n",
    "    loans_data = pd.DataFrame()\n",
    "    for index in range(len(suffixs)):\n",
    "        suffix = suffixs[index]\n",
    "        path =\"data/loans/%s/xa%s.csv.gz\" % (year, suffix)\n",
    "        if index == 0:\n",
    "            loans_data = pd.read_csv(path, skiprows=1)\n",
    "        else:\n",
    "            frame = pd.read_csv(path, skiprows=0, names=loans_data.columns)\n",
    "            loans_data = loans_data.append(frame, ignore_index=True)\n",
    "            del frame\n",
    "    return loans_data\n",
    "# create suffix from start (e.g. 'a') to end (e.g. 'z')\n",
    "def create_suffixs(start, end):\n",
    "    return [chr(i) for i in range(ord(start), ord(end)+1)]"
   ]
  },
  {
   "cell_type": "code",
   "execution_count": 3,
   "metadata": {
    "scrolled": true
   },
   "outputs": [
    {
     "name": "stderr",
     "output_type": "stream",
     "text": [
      "/usr/local/lib/python2.7/site-packages/IPython/core/interactiveshell.py:2821: DtypeWarning: Columns (19) have mixed types. Specify dtype option on import or set low_memory=False.\n",
      "  if self.run_code(code, result):\n",
      "/usr/local/lib/python2.7/site-packages/IPython/core/interactiveshell.py:2821: DtypeWarning: Columns (55) have mixed types. Specify dtype option on import or set low_memory=False.\n",
      "  if self.run_code(code, result):\n"
     ]
    },
    {
     "name": "stdout",
     "output_type": "stream",
     "text": [
      "Memory : 701.00 MB\n"
     ]
    },
    {
     "data": {
      "text/plain": [
       "421097"
      ]
     },
     "execution_count": 3,
     "metadata": {},
     "output_type": "execute_result"
    }
   ],
   "source": [
    "# 'a' to 'o' for 2015\n",
    "suffixs = create_suffixs('a', 'o')\n",
    "loans_data = load_year_data('2015', suffixs)\n",
    "collect_and_check_mem()\n",
    "len(loans_data.index)"
   ]
  },
  {
   "cell_type": "code",
   "execution_count": 4,
   "metadata": {
    "scrolled": true
   },
   "outputs": [
    {
     "data": {
      "text/plain": [
       "111"
      ]
     },
     "execution_count": 4,
     "metadata": {},
     "output_type": "execute_result"
    }
   ],
   "source": [
    "len(loans_data.columns)"
   ]
  },
  {
   "cell_type": "markdown",
   "metadata": {},
   "source": [
    "###  Select features"
   ]
  },
  {
   "cell_type": "code",
   "execution_count": 5,
   "metadata": {
    "collapsed": true
   },
   "outputs": [],
   "source": [
    "# since too many features, maybe we take out those we wanna keep:\n",
    "features_to_keep = set([\n",
    "    # numerical\n",
    "    'loan_amnt', 'funded_amnt', 'annual_inc', 'installment',\n",
    "    'open_acc', 'total_acc',  \n",
    "    \n",
    "    # features used to extract target and drop once that done\n",
    "    'loan_status',\n",
    "    'last_pymnt_d', \n",
    "    'issue_d', \n",
    "    \n",
    "    # categorical\n",
    "    'term','home_ownership', 'purpose', 'application_type', # dummize\n",
    "    'grade', 'sub_grade', 'verification_status', \n",
    "    'pymnt_plan',#binary\n",
    "    # special\n",
    "    #'title', # 10629 NULLs for 2016 Q1Q4 value maybe forget it\n",
    "    \n",
    "    'int_rate', 'revol_util', # trim out percentage mark: 10.65%\n",
    "    'emp_length', # extracting number: 10+ years < 1 year\n",
    "    \n",
    "    # not sure and not processed:\n",
    "    'inq_last_6mths', 'pub_rec', 'revol_bal', 'dti', 'delinq_2yrs', \n",
    "     'initial_list_status',\n",
    "    'collections_12_mths_ex_med',\n",
    "    'policy_code', \n",
    "    'acc_now_delinq', 'chargeoff_within_12_mths', 'delinq_amnt',\n",
    "    'pub_rec_bankruptcies', 'tax_liens'\n",
    "    \n",
    "    # confirmed to dropp:\n",
    "    # 'addr_state', \n",
    "    # 'last_credit_pull_d', 'earliest_cr_line' # dates 'Mar-02'\n",
    "])"
   ]
  },
  {
   "cell_type": "code",
   "execution_count": 6,
   "metadata": {},
   "outputs": [
    {
     "data": {
      "text/plain": [
       "33"
      ]
     },
     "execution_count": 6,
     "metadata": {},
     "output_type": "execute_result"
    }
   ],
   "source": [
    "len(features_to_keep)"
   ]
  },
  {
   "cell_type": "code",
   "execution_count": 7,
   "metadata": {},
   "outputs": [
    {
     "data": {
      "text/plain": [
       "Index([u'loan_amnt', u'funded_amnt', u'term', u'int_rate', u'installment',\n",
       "       u'grade', u'sub_grade', u'emp_length', u'home_ownership', u'annual_inc',\n",
       "       u'verification_status', u'issue_d', u'loan_status', u'pymnt_plan',\n",
       "       u'purpose', u'dti', u'delinq_2yrs', u'inq_last_6mths', u'open_acc',\n",
       "       u'pub_rec', u'revol_bal', u'revol_util', u'total_acc',\n",
       "       u'initial_list_status', u'last_pymnt_d', u'collections_12_mths_ex_med',\n",
       "       u'policy_code', u'application_type', u'acc_now_delinq',\n",
       "       u'chargeoff_within_12_mths', u'delinq_amnt', u'pub_rec_bankruptcies',\n",
       "       u'tax_liens'],\n",
       "      dtype='object')"
      ]
     },
     "execution_count": 7,
     "metadata": {},
     "output_type": "execute_result"
    }
   ],
   "source": [
    "for column in loans_data.columns:\n",
    "    if column not in features_to_keep:\n",
    "        loans_data = loans_data.drop(column, axis=1)\n",
    "loans_data.columns"
   ]
  },
  {
   "cell_type": "code",
   "execution_count": 8,
   "metadata": {
    "scrolled": true
   },
   "outputs": [
    {
     "data": {
      "text/plain": [
       "33"
      ]
     },
     "execution_count": 8,
     "metadata": {},
     "output_type": "execute_result"
    }
   ],
   "source": [
    "len(loans_data.columns)"
   ]
  },
  {
   "cell_type": "markdown",
   "metadata": {},
   "source": [
    "### Clean data"
   ]
  },
  {
   "cell_type": "code",
   "execution_count": 9,
   "metadata": {},
   "outputs": [
    {
     "data": {
      "text/plain": [
       "loan_amnt                       2\n",
       "funded_amnt                     2\n",
       "term                            2\n",
       "int_rate                        2\n",
       "installment                     2\n",
       "grade                           2\n",
       "sub_grade                       2\n",
       "emp_length                      2\n",
       "home_ownership                  2\n",
       "annual_inc                      2\n",
       "verification_status             2\n",
       "issue_d                         2\n",
       "loan_status                     2\n",
       "pymnt_plan                      2\n",
       "purpose                         2\n",
       "dti                             2\n",
       "delinq_2yrs                     2\n",
       "inq_last_6mths                  2\n",
       "open_acc                        2\n",
       "pub_rec                         2\n",
       "revol_bal                       2\n",
       "revol_util                    164\n",
       "total_acc                       2\n",
       "initial_list_status             2\n",
       "last_pymnt_d                  296\n",
       "collections_12_mths_ex_med      2\n",
       "policy_code                     2\n",
       "application_type                2\n",
       "acc_now_delinq                  2\n",
       "chargeoff_within_12_mths        2\n",
       "delinq_amnt                     2\n",
       "pub_rec_bankruptcies            2\n",
       "tax_liens                       2\n",
       "dtype: int64"
      ]
     },
     "execution_count": 9,
     "metadata": {},
     "output_type": "execute_result"
    }
   ],
   "source": [
    "# Check NULL\n",
    "loans_data.isnull().sum()"
   ]
  },
  {
   "cell_type": "code",
   "execution_count": 10,
   "metadata": {
    "scrolled": true
   },
   "outputs": [
    {
     "data": {
      "text/plain": [
       "420639"
      ]
     },
     "execution_count": 10,
     "metadata": {},
     "output_type": "execute_result"
    }
   ],
   "source": [
    "# Drop rows with NULL values:\n",
    "loans_data = loans_data.dropna()\n",
    "total_num = len(loans_data.index)\n",
    "#loans_data.isnull().sum()\n",
    "total_num"
   ]
  },
  {
   "cell_type": "markdown",
   "metadata": {},
   "source": [
    "### Build Target Variable  "
   ]
  },
  {
   "cell_type": "markdown",
   "metadata": {},
   "source": [
    "Target Variable:  <br>[loan_status=\"Fully Paid\"] && [(last_pymnt_d - issue_d) < 366]"
   ]
  },
  {
   "cell_type": "code",
   "execution_count": 11,
   "metadata": {},
   "outputs": [
    {
     "data": {
      "text/plain": [
       "array(['Current', 'Fully Paid', 'Default', 'Charged Off',\n",
       "       'Late (16-30 days)', 'Late (31-120 days)', 'In Grace Period'], dtype=object)"
      ]
     },
     "execution_count": 11,
     "metadata": {},
     "output_type": "execute_result"
    }
   ],
   "source": [
    "# loans_data[\"term\"].unique()\n",
    "# loans_data[\"last_pymnt_d\"].unique()\n",
    "# loans_data[\"issue_d\"].unique()\n",
    "loans_data[\"loan_status\"].unique()"
   ]
  },
  {
   "cell_type": "code",
   "execution_count": 12,
   "metadata": {
    "collapsed": true,
    "scrolled": true
   },
   "outputs": [],
   "source": [
    "# Target creation\n",
    "from datetime import datetime\n",
    "from random import randint\n",
    "\n",
    "Y = [] # pre_paid : 1   not pre_paid : 0\n",
    "for index in range(total_num):\n",
    "    df = loans_data.iloc[index]\n",
    "    if df[\"loan_status\"] == \"Fully Paid\":\n",
    "        time1 = datetime.strptime(df[\"issue_d\"], '%b-%Y') # 'Feb-2017'\n",
    "        time2 = datetime.strptime(df[\"last_pymnt_d\"], '%b-%Y')\n",
    "        diff = abs(time1 - time2).days\n",
    "        if diff < 366:\n",
    "            Y.insert(len(Y),1)    \n",
    "        else:\n",
    "            Y.insert(len(Y),0)\n",
    "    else:\n",
    "        Y.insert(len(Y),0)"
   ]
  },
  {
   "cell_type": "code",
   "execution_count": 13,
   "metadata": {
    "collapsed": true
   },
   "outputs": [],
   "source": [
    "# Remove target related features\n",
    "for field in ['issue_d', 'loan_status', 'last_pymnt_d']:\n",
    "    loans_data = loans_data.drop([field], axis=1)"
   ]
  },
  {
   "cell_type": "code",
   "execution_count": 14,
   "metadata": {
    "scrolled": false
   },
   "outputs": [
    {
     "data": {
      "text/plain": [
       "420639"
      ]
     },
     "execution_count": 14,
     "metadata": {},
     "output_type": "execute_result"
    }
   ],
   "source": [
    "# Target\n",
    "len(Y)"
   ]
  },
  {
   "cell_type": "markdown",
   "metadata": {},
   "source": [
    "### Convert categorical features to numerical values  "
   ]
  },
  {
   "cell_type": "code",
   "execution_count": 15,
   "metadata": {
    "collapsed": true
   },
   "outputs": [],
   "source": [
    "# convert 'grade','subgrade' and 'verification status' into numerical values\n",
    "loans_data['grade'].replace(['A', 'B', 'C', 'D', 'E', 'F', 'G'], [1,2,3,4,5,6,7], inplace = True)\n",
    "loans_data['sub_grade'].replace(['A1','A2','A3','A4','A5','B1','B2','B3','B4','B5','C1','C2','C3','C4','C5','D1','D2','D3','D4','D5','E1','E2','E3','E4','E5','F1','F2','F3','F4','F5','G1','G2','G3','G4','G5'\n",
    "], [1,2,3,4,5,6,7,8,9,10,11,12,13,14,15,16,17,18,19,20,21,22,23,24,25,26,27,28,29,30,31,32,33,34,35], inplace = True)\n",
    "loans_data['verification_status'].replace(['Not Verified', 'Source Verified', 'Verified'], [0,1,2], inplace = True)"
   ]
  },
  {
   "cell_type": "code",
   "execution_count": 16,
   "metadata": {},
   "outputs": [
    {
     "data": {
      "text/plain": [
       "array(['n', 'y'], dtype=object)"
      ]
     },
     "execution_count": 16,
     "metadata": {},
     "output_type": "execute_result"
    }
   ],
   "source": [
    "loans_data['pymnt_plan'].unique()"
   ]
  },
  {
   "cell_type": "code",
   "execution_count": 17,
   "metadata": {
    "collapsed": true
   },
   "outputs": [],
   "source": [
    "# convert 'pymnt_plan' to numeric values\n",
    "loans_data['pymnt_plan'] = pd.Series(loans_data['pymnt_plan'] =='y',dtype=int)"
   ]
  },
  {
   "cell_type": "code",
   "execution_count": 18,
   "metadata": {},
   "outputs": [
    {
     "data": {
      "text/plain": [
       "array(['w', 'f'], dtype=object)"
      ]
     },
     "execution_count": 18,
     "metadata": {},
     "output_type": "execute_result"
    }
   ],
   "source": [
    "loans_data['initial_list_status'].unique()"
   ]
  },
  {
   "cell_type": "code",
   "execution_count": 19,
   "metadata": {
    "collapsed": true
   },
   "outputs": [],
   "source": [
    "# conver 'initial_list_status' to numeric values\n",
    "loans_data['initial_list_status'] = pd.Series(loans_data['initial_list_status'] =='w',dtype=int)"
   ]
  },
  {
   "cell_type": "code",
   "execution_count": 20,
   "metadata": {
    "collapsed": true
   },
   "outputs": [],
   "source": [
    "# creating dummy variables for 'term', 'home_ownership', 'purpose' and 'application type'\n",
    "for field in ['term','home_ownership', 'purpose', 'application_type']:\n",
    "    for value in loans_data[field].unique():\n",
    "        loans_data[field + \" _ \" + value] = pd.Series(loans_data[field]==value, dtype=int)\n",
    "    loans_data = loans_data.drop([field], axis=1)"
   ]
  },
  {
   "cell_type": "code",
   "execution_count": 21,
   "metadata": {
    "collapsed": true
   },
   "outputs": [],
   "source": [
    "# convert field with percentage mark to float\n",
    "p_features = ['revol_util', 'int_rate']\n",
    "for f in p_features:\n",
    "    loans_data[f] = loans_data[f].replace('\\%','', regex=True).astype(float)\n"
   ]
  },
  {
   "cell_type": "code",
   "execution_count": 22,
   "metadata": {
    "scrolled": true
   },
   "outputs": [
    {
     "data": {
      "text/plain": [
       "dtype('float64')"
      ]
     },
     "execution_count": 22,
     "metadata": {},
     "output_type": "execute_result"
    }
   ],
   "source": [
    "loans_data['int_rate'].dtypes"
   ]
  },
  {
   "cell_type": "code",
   "execution_count": 23,
   "metadata": {},
   "outputs": [
    {
     "data": {
      "text/plain": [
       "array(['5 years', '< 1 year', '3 years', '10+ years', '2 years', 'n/a',\n",
       "       '4 years', '8 years', '6 years', '9 years', '1 year', '7 years'], dtype=object)"
      ]
     },
     "execution_count": 23,
     "metadata": {},
     "output_type": "execute_result"
    }
   ],
   "source": [
    "loans_data['emp_length'].unique()"
   ]
  },
  {
   "cell_type": "code",
   "execution_count": 24,
   "metadata": {
    "collapsed": true
   },
   "outputs": [],
   "source": [
    "\n",
    "def extract_number(s):\n",
    "    import re\n",
    "    if isinstance(s, int):\n",
    "        return s\n",
    "    result = re.search('\\d+', s)\n",
    "    if result:\n",
    "        return int(result.group())\n",
    "    else:\n",
    "        return 0 # default n/a for emp_length indicates no job\n",
    "loans_data['emp_length'] = loans_data['emp_length'].apply(extract_number)"
   ]
  },
  {
   "cell_type": "code",
   "execution_count": 25,
   "metadata": {},
   "outputs": [
    {
     "data": {
      "text/html": [
       "<div>\n",
       "<table border=\"1\" class=\"dataframe\">\n",
       "  <thead>\n",
       "    <tr style=\"text-align: right;\">\n",
       "      <th></th>\n",
       "      <th>loan_amnt</th>\n",
       "      <th>funded_amnt</th>\n",
       "      <th>int_rate</th>\n",
       "      <th>installment</th>\n",
       "      <th>grade</th>\n",
       "      <th>sub_grade</th>\n",
       "      <th>emp_length</th>\n",
       "      <th>annual_inc</th>\n",
       "      <th>verification_status</th>\n",
       "      <th>pymnt_plan</th>\n",
       "      <th>...</th>\n",
       "      <th>purpose _ medical</th>\n",
       "      <th>purpose _ major_purchase</th>\n",
       "      <th>purpose _ house</th>\n",
       "      <th>purpose _ vacation</th>\n",
       "      <th>purpose _ moving</th>\n",
       "      <th>purpose _ renewable_energy</th>\n",
       "      <th>purpose _ wedding</th>\n",
       "      <th>purpose _ educational</th>\n",
       "      <th>application_type _ INDIVIDUAL</th>\n",
       "      <th>application_type _ JOINT</th>\n",
       "    </tr>\n",
       "  </thead>\n",
       "  <tbody>\n",
       "    <tr>\n",
       "      <th>0</th>\n",
       "      <td>16000.0</td>\n",
       "      <td>16000.0</td>\n",
       "      <td>8.49</td>\n",
       "      <td>328.19</td>\n",
       "      <td>2</td>\n",
       "      <td>6</td>\n",
       "      <td>5</td>\n",
       "      <td>62000.0</td>\n",
       "      <td>1</td>\n",
       "      <td>0</td>\n",
       "      <td>...</td>\n",
       "      <td>0</td>\n",
       "      <td>0</td>\n",
       "      <td>0</td>\n",
       "      <td>0</td>\n",
       "      <td>0</td>\n",
       "      <td>0</td>\n",
       "      <td>0</td>\n",
       "      <td>0</td>\n",
       "      <td>1</td>\n",
       "      <td>0</td>\n",
       "    </tr>\n",
       "    <tr>\n",
       "      <th>1</th>\n",
       "      <td>8000.0</td>\n",
       "      <td>8000.0</td>\n",
       "      <td>10.78</td>\n",
       "      <td>261.08</td>\n",
       "      <td>2</td>\n",
       "      <td>9</td>\n",
       "      <td>1</td>\n",
       "      <td>45000.0</td>\n",
       "      <td>0</td>\n",
       "      <td>0</td>\n",
       "      <td>...</td>\n",
       "      <td>0</td>\n",
       "      <td>0</td>\n",
       "      <td>0</td>\n",
       "      <td>0</td>\n",
       "      <td>0</td>\n",
       "      <td>0</td>\n",
       "      <td>0</td>\n",
       "      <td>0</td>\n",
       "      <td>1</td>\n",
       "      <td>0</td>\n",
       "    </tr>\n",
       "    <tr>\n",
       "      <th>2</th>\n",
       "      <td>10000.0</td>\n",
       "      <td>10000.0</td>\n",
       "      <td>10.78</td>\n",
       "      <td>326.35</td>\n",
       "      <td>2</td>\n",
       "      <td>9</td>\n",
       "      <td>3</td>\n",
       "      <td>41600.0</td>\n",
       "      <td>0</td>\n",
       "      <td>0</td>\n",
       "      <td>...</td>\n",
       "      <td>0</td>\n",
       "      <td>0</td>\n",
       "      <td>0</td>\n",
       "      <td>0</td>\n",
       "      <td>0</td>\n",
       "      <td>0</td>\n",
       "      <td>0</td>\n",
       "      <td>0</td>\n",
       "      <td>1</td>\n",
       "      <td>0</td>\n",
       "    </tr>\n",
       "    <tr>\n",
       "      <th>3</th>\n",
       "      <td>24700.0</td>\n",
       "      <td>24700.0</td>\n",
       "      <td>11.99</td>\n",
       "      <td>820.28</td>\n",
       "      <td>3</td>\n",
       "      <td>11</td>\n",
       "      <td>10</td>\n",
       "      <td>65000.0</td>\n",
       "      <td>0</td>\n",
       "      <td>0</td>\n",
       "      <td>...</td>\n",
       "      <td>0</td>\n",
       "      <td>0</td>\n",
       "      <td>0</td>\n",
       "      <td>0</td>\n",
       "      <td>0</td>\n",
       "      <td>0</td>\n",
       "      <td>0</td>\n",
       "      <td>0</td>\n",
       "      <td>1</td>\n",
       "      <td>0</td>\n",
       "    </tr>\n",
       "    <tr>\n",
       "      <th>4</th>\n",
       "      <td>10000.0</td>\n",
       "      <td>10000.0</td>\n",
       "      <td>11.99</td>\n",
       "      <td>222.40</td>\n",
       "      <td>3</td>\n",
       "      <td>11</td>\n",
       "      <td>10</td>\n",
       "      <td>42500.0</td>\n",
       "      <td>0</td>\n",
       "      <td>0</td>\n",
       "      <td>...</td>\n",
       "      <td>0</td>\n",
       "      <td>0</td>\n",
       "      <td>0</td>\n",
       "      <td>0</td>\n",
       "      <td>0</td>\n",
       "      <td>0</td>\n",
       "      <td>0</td>\n",
       "      <td>0</td>\n",
       "      <td>1</td>\n",
       "      <td>0</td>\n",
       "    </tr>\n",
       "  </tbody>\n",
       "</table>\n",
       "<p>5 rows × 48 columns</p>\n",
       "</div>"
      ],
      "text/plain": [
       "   loan_amnt  funded_amnt  int_rate  installment  grade  sub_grade  \\\n",
       "0    16000.0      16000.0      8.49       328.19      2          6   \n",
       "1     8000.0       8000.0     10.78       261.08      2          9   \n",
       "2    10000.0      10000.0     10.78       326.35      2          9   \n",
       "3    24700.0      24700.0     11.99       820.28      3         11   \n",
       "4    10000.0      10000.0     11.99       222.40      3         11   \n",
       "\n",
       "   emp_length  annual_inc  verification_status  pymnt_plan  \\\n",
       "0           5     62000.0                    1           0   \n",
       "1           1     45000.0                    0           0   \n",
       "2           3     41600.0                    0           0   \n",
       "3          10     65000.0                    0           0   \n",
       "4          10     42500.0                    0           0   \n",
       "\n",
       "             ...             purpose _ medical  purpose _ major_purchase  \\\n",
       "0            ...                             0                         0   \n",
       "1            ...                             0                         0   \n",
       "2            ...                             0                         0   \n",
       "3            ...                             0                         0   \n",
       "4            ...                             0                         0   \n",
       "\n",
       "   purpose _ house  purpose _ vacation  purpose _ moving  \\\n",
       "0                0                   0                 0   \n",
       "1                0                   0                 0   \n",
       "2                0                   0                 0   \n",
       "3                0                   0                 0   \n",
       "4                0                   0                 0   \n",
       "\n",
       "   purpose _ renewable_energy  purpose _ wedding  purpose _ educational  \\\n",
       "0                           0                  0                      0   \n",
       "1                           0                  0                      0   \n",
       "2                           0                  0                      0   \n",
       "3                           0                  0                      0   \n",
       "4                           0                  0                      0   \n",
       "\n",
       "   application_type _ INDIVIDUAL  application_type _ JOINT  \n",
       "0                              1                         0  \n",
       "1                              1                         0  \n",
       "2                              1                         0  \n",
       "3                              1                         0  \n",
       "4                              1                         0  \n",
       "\n",
       "[5 rows x 48 columns]"
      ]
     },
     "execution_count": 25,
     "metadata": {},
     "output_type": "execute_result"
    }
   ],
   "source": [
    "loans_data.head()"
   ]
  },
  {
   "cell_type": "code",
   "execution_count": 26,
   "metadata": {},
   "outputs": [
    {
     "data": {
      "text/plain": [
       "(420639, 48)"
      ]
     },
     "execution_count": 26,
     "metadata": {},
     "output_type": "execute_result"
    }
   ],
   "source": [
    "loans_data.shape"
   ]
  },
  {
   "cell_type": "code",
   "execution_count": 27,
   "metadata": {
    "collapsed": true
   },
   "outputs": [],
   "source": [
    "# Initiate model development\n",
    "import numpy as np\n",
    "import pandas as pd\n",
    "from sklearn.linear_model import LogisticRegression\n",
    "from sklearn.svm import SVC\n",
    "from sklearn import metrics\n",
    "from sklearn.preprocessing import scale"
   ]
  },
  {
   "cell_type": "code",
   "execution_count": 28,
   "metadata": {
    "collapsed": true
   },
   "outputs": [],
   "source": [
    "# Scaling the data\n",
    "X_Scaled = pd.DataFrame(scale(loans_data, axis=0, with_mean=True, with_std=True, copy=True), columns = loans_data.columns.values)"
   ]
  },
  {
   "cell_type": "code",
   "execution_count": 29,
   "metadata": {},
   "outputs": [
    {
     "data": {
      "text/plain": [
       "(420639, 48)"
      ]
     },
     "execution_count": 29,
     "metadata": {},
     "output_type": "execute_result"
    }
   ],
   "source": [
    "X_Scaled.shape"
   ]
  },
  {
   "cell_type": "code",
   "execution_count": 30,
   "metadata": {},
   "outputs": [
    {
     "data": {
      "text/html": [
       "<div>\n",
       "<table border=\"1\" class=\"dataframe\">\n",
       "  <thead>\n",
       "    <tr style=\"text-align: right;\">\n",
       "      <th></th>\n",
       "      <th>loan_amnt</th>\n",
       "      <th>funded_amnt</th>\n",
       "      <th>int_rate</th>\n",
       "      <th>installment</th>\n",
       "      <th>grade</th>\n",
       "      <th>sub_grade</th>\n",
       "      <th>emp_length</th>\n",
       "      <th>annual_inc</th>\n",
       "      <th>verification_status</th>\n",
       "      <th>pymnt_plan</th>\n",
       "      <th>...</th>\n",
       "      <th>purpose _ medical</th>\n",
       "      <th>purpose _ major_purchase</th>\n",
       "      <th>purpose _ house</th>\n",
       "      <th>purpose _ vacation</th>\n",
       "      <th>purpose _ moving</th>\n",
       "      <th>purpose _ renewable_energy</th>\n",
       "      <th>purpose _ wedding</th>\n",
       "      <th>purpose _ educational</th>\n",
       "      <th>application_type _ INDIVIDUAL</th>\n",
       "      <th>application_type _ JOINT</th>\n",
       "    </tr>\n",
       "  </thead>\n",
       "  <tbody>\n",
       "    <tr>\n",
       "      <th>count</th>\n",
       "      <td>420639.000000</td>\n",
       "      <td>420639.000000</td>\n",
       "      <td>420639.000000</td>\n",
       "      <td>420639.000000</td>\n",
       "      <td>420639.000000</td>\n",
       "      <td>420639.000000</td>\n",
       "      <td>420639.000000</td>\n",
       "      <td>4.206390e+05</td>\n",
       "      <td>420639.000000</td>\n",
       "      <td>420639.000000</td>\n",
       "      <td>...</td>\n",
       "      <td>420639.000000</td>\n",
       "      <td>420639.000000</td>\n",
       "      <td>420639.000000</td>\n",
       "      <td>420639.000000</td>\n",
       "      <td>420639.000000</td>\n",
       "      <td>420639.000000</td>\n",
       "      <td>420639.000000</td>\n",
       "      <td>420639.000000</td>\n",
       "      <td>420639.000000</td>\n",
       "      <td>420639.000000</td>\n",
       "    </tr>\n",
       "    <tr>\n",
       "      <th>mean</th>\n",
       "      <td>15241.623815</td>\n",
       "      <td>15241.623815</td>\n",
       "      <td>12.597062</td>\n",
       "      <td>441.869277</td>\n",
       "      <td>2.776725</td>\n",
       "      <td>11.838693</td>\n",
       "      <td>5.766741</td>\n",
       "      <td>7.695924e+04</td>\n",
       "      <td>1.010534</td>\n",
       "      <td>0.000005</td>\n",
       "      <td>...</td>\n",
       "      <td>0.009319</td>\n",
       "      <td>0.017668</td>\n",
       "      <td>0.003409</td>\n",
       "      <td>0.005330</td>\n",
       "      <td>0.005739</td>\n",
       "      <td>0.000530</td>\n",
       "      <td>0.000010</td>\n",
       "      <td>0.000002</td>\n",
       "      <td>0.998785</td>\n",
       "      <td>0.001215</td>\n",
       "    </tr>\n",
       "    <tr>\n",
       "      <th>std</th>\n",
       "      <td>8570.001535</td>\n",
       "      <td>8570.001535</td>\n",
       "      <td>4.316890</td>\n",
       "      <td>244.789384</td>\n",
       "      <td>1.303182</td>\n",
       "      <td>6.447744</td>\n",
       "      <td>3.750636</td>\n",
       "      <td>7.395647e+04</td>\n",
       "      <td>0.757255</td>\n",
       "      <td>0.002181</td>\n",
       "      <td>...</td>\n",
       "      <td>0.096085</td>\n",
       "      <td>0.131743</td>\n",
       "      <td>0.058288</td>\n",
       "      <td>0.072812</td>\n",
       "      <td>0.075538</td>\n",
       "      <td>0.023019</td>\n",
       "      <td>0.003084</td>\n",
       "      <td>0.001542</td>\n",
       "      <td>0.034833</td>\n",
       "      <td>0.034833</td>\n",
       "    </tr>\n",
       "    <tr>\n",
       "      <th>min</th>\n",
       "      <td>1000.000000</td>\n",
       "      <td>1000.000000</td>\n",
       "      <td>5.320000</td>\n",
       "      <td>14.010000</td>\n",
       "      <td>1.000000</td>\n",
       "      <td>1.000000</td>\n",
       "      <td>0.000000</td>\n",
       "      <td>0.000000e+00</td>\n",
       "      <td>0.000000</td>\n",
       "      <td>0.000000</td>\n",
       "      <td>...</td>\n",
       "      <td>0.000000</td>\n",
       "      <td>0.000000</td>\n",
       "      <td>0.000000</td>\n",
       "      <td>0.000000</td>\n",
       "      <td>0.000000</td>\n",
       "      <td>0.000000</td>\n",
       "      <td>0.000000</td>\n",
       "      <td>0.000000</td>\n",
       "      <td>0.000000</td>\n",
       "      <td>0.000000</td>\n",
       "    </tr>\n",
       "    <tr>\n",
       "      <th>25%</th>\n",
       "      <td>8500.000000</td>\n",
       "      <td>8500.000000</td>\n",
       "      <td>9.170000</td>\n",
       "      <td>263.930000</td>\n",
       "      <td>2.000000</td>\n",
       "      <td>7.000000</td>\n",
       "      <td>2.000000</td>\n",
       "      <td>4.600000e+04</td>\n",
       "      <td>0.000000</td>\n",
       "      <td>0.000000</td>\n",
       "      <td>...</td>\n",
       "      <td>0.000000</td>\n",
       "      <td>0.000000</td>\n",
       "      <td>0.000000</td>\n",
       "      <td>0.000000</td>\n",
       "      <td>0.000000</td>\n",
       "      <td>0.000000</td>\n",
       "      <td>0.000000</td>\n",
       "      <td>0.000000</td>\n",
       "      <td>1.000000</td>\n",
       "      <td>0.000000</td>\n",
       "    </tr>\n",
       "    <tr>\n",
       "      <th>50%</th>\n",
       "      <td>14000.000000</td>\n",
       "      <td>14000.000000</td>\n",
       "      <td>12.290000</td>\n",
       "      <td>385.460000</td>\n",
       "      <td>3.000000</td>\n",
       "      <td>11.000000</td>\n",
       "      <td>6.000000</td>\n",
       "      <td>6.500000e+04</td>\n",
       "      <td>1.000000</td>\n",
       "      <td>0.000000</td>\n",
       "      <td>...</td>\n",
       "      <td>0.000000</td>\n",
       "      <td>0.000000</td>\n",
       "      <td>0.000000</td>\n",
       "      <td>0.000000</td>\n",
       "      <td>0.000000</td>\n",
       "      <td>0.000000</td>\n",
       "      <td>0.000000</td>\n",
       "      <td>0.000000</td>\n",
       "      <td>1.000000</td>\n",
       "      <td>0.000000</td>\n",
       "    </tr>\n",
       "    <tr>\n",
       "      <th>75%</th>\n",
       "      <td>20000.000000</td>\n",
       "      <td>20000.000000</td>\n",
       "      <td>15.590000</td>\n",
       "      <td>578.790000</td>\n",
       "      <td>4.000000</td>\n",
       "      <td>16.000000</td>\n",
       "      <td>10.000000</td>\n",
       "      <td>9.165700e+04</td>\n",
       "      <td>2.000000</td>\n",
       "      <td>0.000000</td>\n",
       "      <td>...</td>\n",
       "      <td>0.000000</td>\n",
       "      <td>0.000000</td>\n",
       "      <td>0.000000</td>\n",
       "      <td>0.000000</td>\n",
       "      <td>0.000000</td>\n",
       "      <td>0.000000</td>\n",
       "      <td>0.000000</td>\n",
       "      <td>0.000000</td>\n",
       "      <td>1.000000</td>\n",
       "      <td>0.000000</td>\n",
       "    </tr>\n",
       "    <tr>\n",
       "      <th>max</th>\n",
       "      <td>35000.000000</td>\n",
       "      <td>35000.000000</td>\n",
       "      <td>28.990000</td>\n",
       "      <td>1445.460000</td>\n",
       "      <td>7.000000</td>\n",
       "      <td>35.000000</td>\n",
       "      <td>10.000000</td>\n",
       "      <td>9.500000e+06</td>\n",
       "      <td>2.000000</td>\n",
       "      <td>1.000000</td>\n",
       "      <td>...</td>\n",
       "      <td>1.000000</td>\n",
       "      <td>1.000000</td>\n",
       "      <td>1.000000</td>\n",
       "      <td>1.000000</td>\n",
       "      <td>1.000000</td>\n",
       "      <td>1.000000</td>\n",
       "      <td>1.000000</td>\n",
       "      <td>1.000000</td>\n",
       "      <td>1.000000</td>\n",
       "      <td>1.000000</td>\n",
       "    </tr>\n",
       "  </tbody>\n",
       "</table>\n",
       "<p>8 rows × 48 columns</p>\n",
       "</div>"
      ],
      "text/plain": [
       "           loan_amnt    funded_amnt       int_rate    installment  \\\n",
       "count  420639.000000  420639.000000  420639.000000  420639.000000   \n",
       "mean    15241.623815   15241.623815      12.597062     441.869277   \n",
       "std      8570.001535    8570.001535       4.316890     244.789384   \n",
       "min      1000.000000    1000.000000       5.320000      14.010000   \n",
       "25%      8500.000000    8500.000000       9.170000     263.930000   \n",
       "50%     14000.000000   14000.000000      12.290000     385.460000   \n",
       "75%     20000.000000   20000.000000      15.590000     578.790000   \n",
       "max     35000.000000   35000.000000      28.990000    1445.460000   \n",
       "\n",
       "               grade      sub_grade     emp_length    annual_inc  \\\n",
       "count  420639.000000  420639.000000  420639.000000  4.206390e+05   \n",
       "mean        2.776725      11.838693       5.766741  7.695924e+04   \n",
       "std         1.303182       6.447744       3.750636  7.395647e+04   \n",
       "min         1.000000       1.000000       0.000000  0.000000e+00   \n",
       "25%         2.000000       7.000000       2.000000  4.600000e+04   \n",
       "50%         3.000000      11.000000       6.000000  6.500000e+04   \n",
       "75%         4.000000      16.000000      10.000000  9.165700e+04   \n",
       "max         7.000000      35.000000      10.000000  9.500000e+06   \n",
       "\n",
       "       verification_status     pymnt_plan            ...             \\\n",
       "count        420639.000000  420639.000000            ...              \n",
       "mean              1.010534       0.000005            ...              \n",
       "std               0.757255       0.002181            ...              \n",
       "min               0.000000       0.000000            ...              \n",
       "25%               0.000000       0.000000            ...              \n",
       "50%               1.000000       0.000000            ...              \n",
       "75%               2.000000       0.000000            ...              \n",
       "max               2.000000       1.000000            ...              \n",
       "\n",
       "       purpose _ medical  purpose _ major_purchase  purpose _ house  \\\n",
       "count      420639.000000             420639.000000    420639.000000   \n",
       "mean            0.009319                  0.017668         0.003409   \n",
       "std             0.096085                  0.131743         0.058288   \n",
       "min             0.000000                  0.000000         0.000000   \n",
       "25%             0.000000                  0.000000         0.000000   \n",
       "50%             0.000000                  0.000000         0.000000   \n",
       "75%             0.000000                  0.000000         0.000000   \n",
       "max             1.000000                  1.000000         1.000000   \n",
       "\n",
       "       purpose _ vacation  purpose _ moving  purpose _ renewable_energy  \\\n",
       "count       420639.000000     420639.000000               420639.000000   \n",
       "mean             0.005330          0.005739                    0.000530   \n",
       "std              0.072812          0.075538                    0.023019   \n",
       "min              0.000000          0.000000                    0.000000   \n",
       "25%              0.000000          0.000000                    0.000000   \n",
       "50%              0.000000          0.000000                    0.000000   \n",
       "75%              0.000000          0.000000                    0.000000   \n",
       "max              1.000000          1.000000                    1.000000   \n",
       "\n",
       "       purpose _ wedding  purpose _ educational  \\\n",
       "count      420639.000000          420639.000000   \n",
       "mean            0.000010               0.000002   \n",
       "std             0.003084               0.001542   \n",
       "min             0.000000               0.000000   \n",
       "25%             0.000000               0.000000   \n",
       "50%             0.000000               0.000000   \n",
       "75%             0.000000               0.000000   \n",
       "max             1.000000               1.000000   \n",
       "\n",
       "       application_type _ INDIVIDUAL  application_type _ JOINT  \n",
       "count                  420639.000000             420639.000000  \n",
       "mean                        0.998785                  0.001215  \n",
       "std                         0.034833                  0.034833  \n",
       "min                         0.000000                  0.000000  \n",
       "25%                         1.000000                  0.000000  \n",
       "50%                         1.000000                  0.000000  \n",
       "75%                         1.000000                  0.000000  \n",
       "max                         1.000000                  1.000000  \n",
       "\n",
       "[8 rows x 48 columns]"
      ]
     },
     "execution_count": 30,
     "metadata": {},
     "output_type": "execute_result"
    }
   ],
   "source": [
    "loans_data.describe()"
   ]
  },
  {
   "cell_type": "code",
   "execution_count": 31,
   "metadata": {},
   "outputs": [
    {
     "data": {
      "text/html": [
       "<div>\n",
       "<table border=\"1\" class=\"dataframe\">\n",
       "  <thead>\n",
       "    <tr style=\"text-align: right;\">\n",
       "      <th></th>\n",
       "      <th>loan_amnt</th>\n",
       "      <th>funded_amnt</th>\n",
       "      <th>int_rate</th>\n",
       "      <th>installment</th>\n",
       "      <th>grade</th>\n",
       "      <th>sub_grade</th>\n",
       "      <th>emp_length</th>\n",
       "      <th>annual_inc</th>\n",
       "      <th>verification_status</th>\n",
       "      <th>pymnt_plan</th>\n",
       "      <th>...</th>\n",
       "      <th>purpose _ medical</th>\n",
       "      <th>purpose _ major_purchase</th>\n",
       "      <th>purpose _ house</th>\n",
       "      <th>purpose _ vacation</th>\n",
       "      <th>purpose _ moving</th>\n",
       "      <th>purpose _ renewable_energy</th>\n",
       "      <th>purpose _ wedding</th>\n",
       "      <th>purpose _ educational</th>\n",
       "      <th>application_type _ INDIVIDUAL</th>\n",
       "      <th>application_type _ JOINT</th>\n",
       "    </tr>\n",
       "  </thead>\n",
       "  <tbody>\n",
       "    <tr>\n",
       "      <th>count</th>\n",
       "      <td>4.206390e+05</td>\n",
       "      <td>4.206390e+05</td>\n",
       "      <td>4.206390e+05</td>\n",
       "      <td>4.206390e+05</td>\n",
       "      <td>4.206390e+05</td>\n",
       "      <td>4.206390e+05</td>\n",
       "      <td>4.206390e+05</td>\n",
       "      <td>4.206390e+05</td>\n",
       "      <td>4.206390e+05</td>\n",
       "      <td>4.206390e+05</td>\n",
       "      <td>...</td>\n",
       "      <td>4.206390e+05</td>\n",
       "      <td>4.206390e+05</td>\n",
       "      <td>4.206390e+05</td>\n",
       "      <td>4.206390e+05</td>\n",
       "      <td>4.206390e+05</td>\n",
       "      <td>4.206390e+05</td>\n",
       "      <td>4.206390e+05</td>\n",
       "      <td>4.206390e+05</td>\n",
       "      <td>4.206390e+05</td>\n",
       "      <td>4.206390e+05</td>\n",
       "    </tr>\n",
       "    <tr>\n",
       "      <th>mean</th>\n",
       "      <td>-4.716242e-17</td>\n",
       "      <td>-4.716242e-17</td>\n",
       "      <td>-2.852718e-16</td>\n",
       "      <td>-1.537846e-16</td>\n",
       "      <td>-2.445959e-17</td>\n",
       "      <td>-2.500014e-17</td>\n",
       "      <td>-6.513549e-17</td>\n",
       "      <td>-1.260818e-16</td>\n",
       "      <td>-6.121655e-17</td>\n",
       "      <td>-2.766062e-18</td>\n",
       "      <td>...</td>\n",
       "      <td>5.104758e-17</td>\n",
       "      <td>3.054071e-17</td>\n",
       "      <td>-1.365717e-17</td>\n",
       "      <td>-4.070968e-18</td>\n",
       "      <td>8.513560e-18</td>\n",
       "      <td>2.854745e-18</td>\n",
       "      <td>6.123344e-19</td>\n",
       "      <td>-1.490718e-18</td>\n",
       "      <td>1.555414e-16</td>\n",
       "      <td>1.415548e-17</td>\n",
       "    </tr>\n",
       "    <tr>\n",
       "      <th>std</th>\n",
       "      <td>1.000001e+00</td>\n",
       "      <td>1.000001e+00</td>\n",
       "      <td>1.000001e+00</td>\n",
       "      <td>1.000001e+00</td>\n",
       "      <td>1.000001e+00</td>\n",
       "      <td>1.000001e+00</td>\n",
       "      <td>1.000001e+00</td>\n",
       "      <td>1.000001e+00</td>\n",
       "      <td>1.000001e+00</td>\n",
       "      <td>1.000001e+00</td>\n",
       "      <td>...</td>\n",
       "      <td>1.000001e+00</td>\n",
       "      <td>1.000001e+00</td>\n",
       "      <td>1.000001e+00</td>\n",
       "      <td>1.000001e+00</td>\n",
       "      <td>1.000001e+00</td>\n",
       "      <td>1.000001e+00</td>\n",
       "      <td>1.000001e+00</td>\n",
       "      <td>1.000001e+00</td>\n",
       "      <td>1.000001e+00</td>\n",
       "      <td>1.000001e+00</td>\n",
       "    </tr>\n",
       "    <tr>\n",
       "      <th>min</th>\n",
       "      <td>-1.661801e+00</td>\n",
       "      <td>-1.661801e+00</td>\n",
       "      <td>-1.685721e+00</td>\n",
       "      <td>-1.747869e+00</td>\n",
       "      <td>-1.363376e+00</td>\n",
       "      <td>-1.681008e+00</td>\n",
       "      <td>-1.537538e+00</td>\n",
       "      <td>-1.040603e+00</td>\n",
       "      <td>-1.334472e+00</td>\n",
       "      <td>-2.180526e-03</td>\n",
       "      <td>...</td>\n",
       "      <td>-9.698875e-02</td>\n",
       "      <td>-1.341124e-01</td>\n",
       "      <td>-5.848727e-02</td>\n",
       "      <td>-7.320210e-02</td>\n",
       "      <td>-7.597376e-02</td>\n",
       "      <td>-2.303100e-02</td>\n",
       "      <td>-3.083737e-03</td>\n",
       "      <td>-1.541863e-03</td>\n",
       "      <td>-2.867348e+01</td>\n",
       "      <td>-3.487544e-02</td>\n",
       "    </tr>\n",
       "    <tr>\n",
       "      <th>25%</th>\n",
       "      <td>-7.866547e-01</td>\n",
       "      <td>-7.866547e-01</td>\n",
       "      <td>-7.938737e-01</td>\n",
       "      <td>-7.269085e-01</td>\n",
       "      <td>-5.960229e-01</td>\n",
       "      <td>-7.504484e-01</td>\n",
       "      <td>-1.004295e+00</td>\n",
       "      <td>-4.186149e-01</td>\n",
       "      <td>-1.334472e+00</td>\n",
       "      <td>-2.180526e-03</td>\n",
       "      <td>...</td>\n",
       "      <td>-9.698875e-02</td>\n",
       "      <td>-1.341124e-01</td>\n",
       "      <td>-5.848727e-02</td>\n",
       "      <td>-7.320210e-02</td>\n",
       "      <td>-7.597376e-02</td>\n",
       "      <td>-2.303100e-02</td>\n",
       "      <td>-3.083737e-03</td>\n",
       "      <td>-1.541863e-03</td>\n",
       "      <td>3.487544e-02</td>\n",
       "      <td>-3.487544e-02</td>\n",
       "    </tr>\n",
       "    <tr>\n",
       "      <th>50%</th>\n",
       "      <td>-1.448804e-01</td>\n",
       "      <td>-1.448804e-01</td>\n",
       "      <td>-7.113039e-02</td>\n",
       "      <td>-2.304403e-01</td>\n",
       "      <td>1.713305e-01</td>\n",
       "      <td>-1.300756e-01</td>\n",
       "      <td>6.219203e-02</td>\n",
       "      <td>-1.617067e-01</td>\n",
       "      <td>-1.391076e-02</td>\n",
       "      <td>-2.180526e-03</td>\n",
       "      <td>...</td>\n",
       "      <td>-9.698875e-02</td>\n",
       "      <td>-1.341124e-01</td>\n",
       "      <td>-5.848727e-02</td>\n",
       "      <td>-7.320210e-02</td>\n",
       "      <td>-7.597376e-02</td>\n",
       "      <td>-2.303100e-02</td>\n",
       "      <td>-3.083737e-03</td>\n",
       "      <td>-1.541863e-03</td>\n",
       "      <td>3.487544e-02</td>\n",
       "      <td>-3.487544e-02</td>\n",
       "    </tr>\n",
       "    <tr>\n",
       "      <th>75%</th>\n",
       "      <td>5.552370e-01</td>\n",
       "      <td>5.552370e-01</td>\n",
       "      <td>6.933097e-01</td>\n",
       "      <td>5.593416e-01</td>\n",
       "      <td>9.386840e-01</td>\n",
       "      <td>6.453904e-01</td>\n",
       "      <td>1.128679e+00</td>\n",
       "      <td>1.987355e-01</td>\n",
       "      <td>1.306651e+00</td>\n",
       "      <td>-2.180526e-03</td>\n",
       "      <td>...</td>\n",
       "      <td>-9.698875e-02</td>\n",
       "      <td>-1.341124e-01</td>\n",
       "      <td>-5.848727e-02</td>\n",
       "      <td>-7.320210e-02</td>\n",
       "      <td>-7.597376e-02</td>\n",
       "      <td>-2.303100e-02</td>\n",
       "      <td>-3.083737e-03</td>\n",
       "      <td>-1.541863e-03</td>\n",
       "      <td>3.487544e-02</td>\n",
       "      <td>-3.487544e-02</td>\n",
       "    </tr>\n",
       "    <tr>\n",
       "      <th>max</th>\n",
       "      <td>2.305530e+00</td>\n",
       "      <td>2.305530e+00</td>\n",
       "      <td>3.797400e+00</td>\n",
       "      <td>4.099818e+00</td>\n",
       "      <td>3.240744e+00</td>\n",
       "      <td>3.592161e+00</td>\n",
       "      <td>1.128679e+00</td>\n",
       "      <td>1.274135e+02</td>\n",
       "      <td>1.306651e+00</td>\n",
       "      <td>4.586049e+02</td>\n",
       "      <td>...</td>\n",
       "      <td>1.031047e+01</td>\n",
       "      <td>7.456431e+00</td>\n",
       "      <td>1.709774e+01</td>\n",
       "      <td>1.366081e+01</td>\n",
       "      <td>1.316244e+01</td>\n",
       "      <td>4.341974e+01</td>\n",
       "      <td>3.242819e+02</td>\n",
       "      <td>6.485661e+02</td>\n",
       "      <td>3.487544e-02</td>\n",
       "      <td>2.867348e+01</td>\n",
       "    </tr>\n",
       "  </tbody>\n",
       "</table>\n",
       "<p>8 rows × 48 columns</p>\n",
       "</div>"
      ],
      "text/plain": [
       "          loan_amnt   funded_amnt      int_rate   installment         grade  \\\n",
       "count  4.206390e+05  4.206390e+05  4.206390e+05  4.206390e+05  4.206390e+05   \n",
       "mean  -4.716242e-17 -4.716242e-17 -2.852718e-16 -1.537846e-16 -2.445959e-17   \n",
       "std    1.000001e+00  1.000001e+00  1.000001e+00  1.000001e+00  1.000001e+00   \n",
       "min   -1.661801e+00 -1.661801e+00 -1.685721e+00 -1.747869e+00 -1.363376e+00   \n",
       "25%   -7.866547e-01 -7.866547e-01 -7.938737e-01 -7.269085e-01 -5.960229e-01   \n",
       "50%   -1.448804e-01 -1.448804e-01 -7.113039e-02 -2.304403e-01  1.713305e-01   \n",
       "75%    5.552370e-01  5.552370e-01  6.933097e-01  5.593416e-01  9.386840e-01   \n",
       "max    2.305530e+00  2.305530e+00  3.797400e+00  4.099818e+00  3.240744e+00   \n",
       "\n",
       "          sub_grade    emp_length    annual_inc  verification_status  \\\n",
       "count  4.206390e+05  4.206390e+05  4.206390e+05         4.206390e+05   \n",
       "mean  -2.500014e-17 -6.513549e-17 -1.260818e-16        -6.121655e-17   \n",
       "std    1.000001e+00  1.000001e+00  1.000001e+00         1.000001e+00   \n",
       "min   -1.681008e+00 -1.537538e+00 -1.040603e+00        -1.334472e+00   \n",
       "25%   -7.504484e-01 -1.004295e+00 -4.186149e-01        -1.334472e+00   \n",
       "50%   -1.300756e-01  6.219203e-02 -1.617067e-01        -1.391076e-02   \n",
       "75%    6.453904e-01  1.128679e+00  1.987355e-01         1.306651e+00   \n",
       "max    3.592161e+00  1.128679e+00  1.274135e+02         1.306651e+00   \n",
       "\n",
       "         pymnt_plan            ...             purpose _ medical  \\\n",
       "count  4.206390e+05            ...                  4.206390e+05   \n",
       "mean  -2.766062e-18            ...                  5.104758e-17   \n",
       "std    1.000001e+00            ...                  1.000001e+00   \n",
       "min   -2.180526e-03            ...                 -9.698875e-02   \n",
       "25%   -2.180526e-03            ...                 -9.698875e-02   \n",
       "50%   -2.180526e-03            ...                 -9.698875e-02   \n",
       "75%   -2.180526e-03            ...                 -9.698875e-02   \n",
       "max    4.586049e+02            ...                  1.031047e+01   \n",
       "\n",
       "       purpose _ major_purchase  purpose _ house  purpose _ vacation  \\\n",
       "count              4.206390e+05     4.206390e+05        4.206390e+05   \n",
       "mean               3.054071e-17    -1.365717e-17       -4.070968e-18   \n",
       "std                1.000001e+00     1.000001e+00        1.000001e+00   \n",
       "min               -1.341124e-01    -5.848727e-02       -7.320210e-02   \n",
       "25%               -1.341124e-01    -5.848727e-02       -7.320210e-02   \n",
       "50%               -1.341124e-01    -5.848727e-02       -7.320210e-02   \n",
       "75%               -1.341124e-01    -5.848727e-02       -7.320210e-02   \n",
       "max                7.456431e+00     1.709774e+01        1.366081e+01   \n",
       "\n",
       "       purpose _ moving  purpose _ renewable_energy  purpose _ wedding  \\\n",
       "count      4.206390e+05                4.206390e+05       4.206390e+05   \n",
       "mean       8.513560e-18                2.854745e-18       6.123344e-19   \n",
       "std        1.000001e+00                1.000001e+00       1.000001e+00   \n",
       "min       -7.597376e-02               -2.303100e-02      -3.083737e-03   \n",
       "25%       -7.597376e-02               -2.303100e-02      -3.083737e-03   \n",
       "50%       -7.597376e-02               -2.303100e-02      -3.083737e-03   \n",
       "75%       -7.597376e-02               -2.303100e-02      -3.083737e-03   \n",
       "max        1.316244e+01                4.341974e+01       3.242819e+02   \n",
       "\n",
       "       purpose _ educational  application_type _ INDIVIDUAL  \\\n",
       "count           4.206390e+05                   4.206390e+05   \n",
       "mean           -1.490718e-18                   1.555414e-16   \n",
       "std             1.000001e+00                   1.000001e+00   \n",
       "min            -1.541863e-03                  -2.867348e+01   \n",
       "25%            -1.541863e-03                   3.487544e-02   \n",
       "50%            -1.541863e-03                   3.487544e-02   \n",
       "75%            -1.541863e-03                   3.487544e-02   \n",
       "max             6.485661e+02                   3.487544e-02   \n",
       "\n",
       "       application_type _ JOINT  \n",
       "count              4.206390e+05  \n",
       "mean               1.415548e-17  \n",
       "std                1.000001e+00  \n",
       "min               -3.487544e-02  \n",
       "25%               -3.487544e-02  \n",
       "50%               -3.487544e-02  \n",
       "75%               -3.487544e-02  \n",
       "max                2.867348e+01  \n",
       "\n",
       "[8 rows x 48 columns]"
      ]
     },
     "execution_count": 31,
     "metadata": {},
     "output_type": "execute_result"
    }
   ],
   "source": [
    "X_Scaled.describe()"
   ]
  },
  {
   "cell_type": "markdown",
   "metadata": {},
   "source": [
    "## Modeling"
   ]
  },
  {
   "cell_type": "code",
   "execution_count": 154,
   "metadata": {
    "collapsed": true
   },
   "outputs": [],
   "source": [
    "from sklearn.tree import DecisionTreeClassifier\n",
    "from sklearn.linear_model import LogisticRegression\n",
    "from sklearn.svm import SVC\n",
    "from sklearn import metrics\n",
    "from sklearn.model_selection import cross_val_score\n",
    "from sklearn.model_selection import train_test_split\n",
    "from sklearn.model_selection import GridSearchCV\n",
    "from sklearn.model_selection import learning_curve\n",
    "\n",
    "# Run this so your plots show properly\n",
    "import matplotlib.pyplot as plt\n",
    "%matplotlib inline\n",
    "plt.rcParams['figure.figsize'] = 12, 12\n",
    "\n",
    "X_train, X_test, Y_train, Y_test = train_test_split(X_Scaled, Y, train_size=0.8)"
   ]
  },
  {
   "cell_type": "markdown",
   "metadata": {},
   "source": [
    "### Logistic Regression"
   ]
  },
  {
   "cell_type": "code",
   "execution_count": 155,
   "metadata": {},
   "outputs": [
    {
     "name": "stdout",
     "output_type": "stream",
     "text": [
      "Linear regression best params:\n",
      "{'penalty': 'l1', 'C': 10.0}\n"
     ]
    }
   ],
   "source": [
    "# Logistic Regression model\n",
    "c_values = []\n",
    "alpha_values = []\n",
    "for i in range(-5,5): \n",
    "    c_values.append(np.power(10.0, i))\n",
    "\n",
    "lr_params = {\n",
    "    \"penalty\": ['l2', 'l1'],\n",
    "    \"C\": c_values\n",
    "}\n",
    "lr_model_search = GridSearchCV(LogisticRegression(), lr_params, scoring=\"roc_auc\")\n",
    "lr_model_search.fit(X_train, Y_train)\n",
    "print(\"Linear regression best params:\")\n",
    "print(lr_model_search.best_params_)"
   ]
  },
  {
   "cell_type": "code",
   "execution_count": 157,
   "metadata": {},
   "outputs": [
    {
     "name": "stdout",
     "output_type": "stream",
     "text": [
      "Logistic regression accuracy: \n",
      "0.879421833397\n"
     ]
    }
   ],
   "source": [
    "lr_model = LogisticRegression(C=10, penalty='l1')\n",
    "lr_model.fit(X_train, Y_train)\n",
    "logistic_regression_accuracy = metrics.accuracy_score(lr_model.predict(X_test), Y_test)\n",
    "print(\"Logistic regression accuracy: \")\n",
    "print(logistic_regression_accuracy)"
   ]
  },
  {
   "cell_type": "code",
   "execution_count": 158,
   "metadata": {},
   "outputs": [
    {
     "data": {
      "text/plain": [
       "array([[ 0.05216311,  0.05922837,  0.31623115, -0.19473018, -0.05277938,\n",
       "         0.05768992,  0.04520633,  0.03395019,  0.0142531 ,  0.        ,\n",
       "        -0.49820996, -0.1030588 ,  0.01318858, -0.19055822, -0.14580076,\n",
       "         0.0431999 , -0.26218705,  0.29531715, -0.00104393, -0.0468379 ,\n",
       "         0.        , -0.0173799 , -0.00848323,  0.00172017,  0.06862098,\n",
       "         0.00862124, -0.1881781 ,  0.11534506,  0.0565305 , -0.04700614,\n",
       "         0.0114228 , -0.01546041, -0.05669096,  0.00183316, -0.03481173,\n",
       "         0.00456434, -0.01454903, -0.0099111 , -0.00885855, -0.01042193,\n",
       "         0.00605512, -0.00316978, -0.00407361, -0.00240411,  0.00254501,\n",
       "        -0.00909208,  0.00354952,  0.        ]])"
      ]
     },
     "execution_count": 158,
     "metadata": {},
     "output_type": "execute_result"
    }
   ],
   "source": [
    "lr_model.coef_"
   ]
  },
  {
   "cell_type": "code",
   "execution_count": 159,
   "metadata": {},
   "outputs": [
    {
     "data": {
      "text/plain": [
       "Index([u'loan_amnt', u'funded_amnt', u'int_rate', u'installment', u'grade',\n",
       "       u'sub_grade', u'emp_length', u'annual_inc', u'verification_status',\n",
       "       u'pymnt_plan', u'dti', u'delinq_2yrs', u'inq_last_6mths', u'open_acc',\n",
       "       u'pub_rec', u'revol_bal', u'revol_util', u'total_acc',\n",
       "       u'initial_list_status', u'collections_12_mths_ex_med', u'policy_code',\n",
       "       u'acc_now_delinq', u'chargeoff_within_12_mths', u'delinq_amnt',\n",
       "       u'pub_rec_bankruptcies', u'tax_liens', u'term _  60 months',\n",
       "       u'term _  36 months', u'home_ownership _ MORTGAGE',\n",
       "       u'home_ownership _ RENT', u'home_ownership _ OWN',\n",
       "       u'home_ownership _ ANY', u'purpose _ credit_card',\n",
       "       u'purpose _ debt_consolidation', u'purpose _ small_business',\n",
       "       u'purpose _ car', u'purpose _ other', u'purpose _ home_improvement',\n",
       "       u'purpose _ medical', u'purpose _ major_purchase', u'purpose _ house',\n",
       "       u'purpose _ vacation', u'purpose _ moving',\n",
       "       u'purpose _ renewable_energy', u'purpose _ wedding',\n",
       "       u'purpose _ educational', u'application_type _ INDIVIDUAL',\n",
       "       u'application_type _ JOINT'],\n",
       "      dtype='object')"
      ]
     },
     "execution_count": 159,
     "metadata": {},
     "output_type": "execute_result"
    }
   ],
   "source": [
    "X_Scaled.columns"
   ]
  },
  {
   "cell_type": "markdown",
   "metadata": {},
   "source": [
    "### Decision Tree"
   ]
  },
  {
   "cell_type": "code",
   "execution_count": 156,
   "metadata": {},
   "outputs": [
    {
     "name": "stdout",
     "output_type": "stream",
     "text": [
      "Decision tree best params:\n",
      "{'min_samples_split': 3365, 'min_samples_leaf': 336}\n"
     ]
    }
   ],
   "source": [
    "# Decision Tree model\n",
    "def decision_tree_params(data):\n",
    "    min_samples_split_values = []\n",
    "    min_samples_leaf_values = []\n",
    "    total = len(data.index)\n",
    "    n = int(np.log10(total))\n",
    "    for i in range(0, n):\n",
    "        total /= 10 \n",
    "        min_samples_split_values.append(int(total))\n",
    "        min_samples_leaf_values.append(int(total))\n",
    "    return {\n",
    "        \"min_samples_split\": min_samples_split_values,\n",
    "        \"min_samples_leaf\": min_samples_leaf_values\n",
    "    }\n",
    "            \n",
    "dt_params = decision_tree_params(X_train)\n",
    "\n",
    "dt_model_search = GridSearchCV(DecisionTreeClassifier(), dt_params, scoring=\"roc_auc\")\n",
    "dt_model_search.fit(X_train, Y_train)\n",
    "print(\"Decision tree best params:\")\n",
    "print(dt_model_search.best_params_)"
   ]
  },
  {
   "cell_type": "code",
   "execution_count": 168,
   "metadata": {},
   "outputs": [
    {
     "name": "stdout",
     "output_type": "stream",
     "text": [
      "Decision tree accuracy: \n",
      "0.879409946748\n"
     ]
    }
   ],
   "source": [
    "dt_model = DecisionTreeClassifier(min_samples_split=3365) # the best params min_samples_leaf given by GridSearch will overfit\n",
    "dt_model.fit(X_train, Y_train)\n",
    "decision_tree_accuracy = metrics.accuracy_score(dt_model.predict(X_test), Y_test)\n",
    "print(\"Decision tree accuracy: \")\n",
    "print(decision_tree_accuracy)"
   ]
  },
  {
   "cell_type": "markdown",
   "metadata": {},
   "source": [
    "## Evaluation"
   ]
  },
  {
   "cell_type": "markdown",
   "metadata": {},
   "source": [
    "### ROC curve"
   ]
  },
  {
   "cell_type": "code",
   "execution_count": 169,
   "metadata": {},
   "outputs": [],
   "source": [
    "tprs = []\n",
    "fprs = []\n",
    "roc_labels = []\n",
    "model_labels = [\"Logistic Regression\", \"Decision Tree\"]\n",
    "for m_index in range(2):\n",
    "    model = lr_model if m_index == 0 else dt_model\n",
    "    model_label = model_labels[m_index]\n",
    "    fpr, tpr, thresholds = metrics.roc_curve(Y_test, model.predict_proba(X_test)[:,1])\n",
    "    auc = metrics.roc_auc_score(model.predict(X_test), Y_test)\n",
    "    tprs.append(tpr)\n",
    "    fprs.append(fpr)\n",
    "    graph_label = \"%s_%.3f\" % (model_label, auc)\n",
    "    roc_labels.append(graph_label)"
   ]
  },
  {
   "cell_type": "code",
   "execution_count": 170,
   "metadata": {
    "scrolled": false
   },
   "outputs": [
    {
     "data": {
      "image/png": "[encoded data removed]",
      "text/plain": [
       "<matplotlib.figure.Figure at 0x10f2f4f90>"
      ]
     },
     "metadata": {},
     "output_type": "display_data"
    }
   ],
   "source": [
    "# plot the roc data\n",
    "for fpr, tpr, roc_label in zip(fprs, tprs, roc_labels):\n",
    "    plt.plot(fpr, tpr, label=roc_label)\n",
    "\n",
    "plt.xlabel(\"fpr\")\n",
    "plt.ylabel(\"tpr\")\n",
    "plt.title(\"ROC Curves\")\n",
    "plt.legend()\n",
    "plt.xlim([0, 1])\n",
    "plt.show()"
   ]
  },
  {
   "cell_type": "code",
   "execution_count": 175,
   "metadata": {},
   "outputs": [
    {
     "data": {
      "text/plain": [
       "336511"
      ]
     },
     "execution_count": 175,
     "metadata": {},
     "output_type": "execute_result"
    }
   ],
   "source": [
    "len(Y_train)"
   ]
  },
  {
   "cell_type": "markdown",
   "metadata": {},
   "source": [
    "### Learning Curve"
   ]
  },
  {
   "cell_type": "code",
   "execution_count": 179,
   "metadata": {},
   "outputs": [
    {
     "name": "stdout",
     "output_type": "stream",
     "text": [
      "[200000, 133333, 88888, 59259, 39506, 26337, 17558, 11705]\n"
     ]
    },
    {
     "data": {
      "text/plain": [
       "<matplotlib.legend.Legend at 0x1126233d0>"
      ]
     },
     "execution_count": 179,
     "metadata": {},
     "output_type": "execute_result"
    },
    {
     "data": {
      "image/png": "[encoded data removed]",
      "text/plain": [
       "<matplotlib.figure.Figure at 0x111783fd0>"
      ]
     },
     "metadata": {},
     "output_type": "display_data"
    }
   ],
   "source": [
    "sample_sizes = []\n",
    "limit = 200000\n",
    "while limit > 10000:\n",
    "    sample_sizes.append(int(limit))\n",
    "    limit /= 1.5\n",
    "print sample_sizes\n",
    "\n",
    "dt_train_sizes, dt_train_scores, dt_test_scores = learning_curve(dt_model,\n",
    "                                                                 X_train,\n",
    "                                                                 Y_train,\n",
    "                                                                 cv=3,\n",
    "                                                                 train_sizes=sample_sizes, \n",
    "                                                                 scoring='roc_auc')\n",
    "lr_train_sizes, lr_train_scores, lr_test_scores = learning_curve(lr_model,\n",
    "                                                                 X_train,\n",
    "                                                                 Y_train,\n",
    "                                                                 cv=3,\n",
    "                                                                 train_sizes=sample_sizes, \n",
    "                                                                 scoring='roc_auc')\n",
    "plt.xlabel(\"sample sizes\")\n",
    "plt.ylabel(\"roc_auc\")\n",
    "plt.errorbar(dt_train_sizes, \n",
    "             np.mean(dt_train_scores, axis=1), \n",
    "             yerr=np.std(dt_train_scores, axis=1), \n",
    "             color=\"red\", \n",
    "             label=\"Decision Tree\")\n",
    "plt.errorbar(lr_train_sizes, \n",
    "             np.mean(lr_train_scores, axis=1), \n",
    "             yerr=np.std(lr_train_scores, axis=1), \n",
    "             color=\"blue\", label=\"Logistic Regression\")\n",
    "plt.legend(loc=0)"
   ]
  },
  {
   "cell_type": "markdown",
   "metadata": {},
   "source": [
    "### Cost Matrix"
   ]
  },
  {
   "cell_type": "code",
   "execution_count": 147,
   "metadata": {
    "scrolled": true
   },
   "outputs": [
    {
     "name": "stdout",
     "output_type": "stream",
     "text": [
      "    p   n\n",
      "Y  10 -10\n",
      "N   0   0\n"
     ]
    }
   ],
   "source": [
    "cost_matrix_movies = pd.DataFrame([[10, -10], [0, 0]], columns=['p', 'n'], index=['Y','N'])\n",
    "\n",
    "print (cost_matrix_movies)"
   ]
  },
  {
   "cell_type": "markdown",
   "metadata": {},
   "source": [
    "### Profit Curve"
   ]
  },
  {
   "cell_type": "code",
   "execution_count": 148,
   "metadata": {},
   "outputs": [
    {
     "data": {
      "text/plain": [
       "<matplotlib.text.Text at 0x10e8b5290>"
      ]
     },
     "execution_count": 148,
     "metadata": {},
     "output_type": "execute_result"
    },
    {
     "data": {
      "image/png": "[encoded data removed]",
      "text/plain": [
       "<matplotlib.figure.Figure at 0x10e8e0110>"
      ]
     },
     "metadata": {},
     "output_type": "display_data"
    }
   ],
   "source": [
    "# baseline probability of being positive or negative in test\n",
    "p_p = np.sum(Y_test)/float(len(Y_test))\n",
    "p_n = 1 - np.sum(Y_test)/float(len(Y_test))\n",
    "size_targeted_pop = float(len(Y_test))\n",
    "\n",
    "for m_index in range(2):\n",
    "    model = lr_model if m_index == 0 else dt_model\n",
    "    model_label = model_labels[m_index]\n",
    "    fpr, tpr, thresholds = metrics.roc_curve(Y_test, model.predict_proba(X_test)[:,1])\n",
    "    Y_test_predicted = model.predict(X_test)\n",
    "    Y_test_probability_1 = model.predict_proba(X_test)[:, 1]\n",
    "\n",
    "    # Reviews above the current threshold\n",
    "    n_targeted = []\n",
    "    for t in thresholds:\n",
    "        n_targeted.append(np.sum(Y_test_probability_1 >= t))\n",
    "\n",
    "    # Turn these counts to percentages of reviews above the threshold\n",
    "    n_targeted = np.array(n_targeted) / size_targeted_pop\n",
    "\n",
    "    # Expected profits:  \n",
    "    expected_profits = (cost_matrix_movies['p']['Y'] * (tpr * p_p)) + (cost_matrix_movies['n']['Y'] * (fpr * p_n))\n",
    "\n",
    "    # Plot the profit curve\n",
    "    plt.plot(n_targeted, size_targeted_pop * expected_profits, label=\"%s\" % (model_label))\n",
    "\n",
    "plt.xlabel(\"Percentage of prepaid loans\")\n",
    "plt.ylabel(\"Profit\")\n",
    "plt.legend()\n",
    "plt.title(\"Profits\")\n",
    "\n"
   ]
  },
  {
   "cell_type": "code",
   "execution_count": null,
   "metadata": {
    "collapsed": true
   },
   "outputs": [],
   "source": []
  }
 ],
 "metadata": {
  "kernelspec": {
   "display_name": "Python 2",
   "language": "python",
   "name": "python2"
  },
  "language_info": {
   "codemirror_mode": {
    "name": "ipython",
    "version": 2
   },
   "file_extension": ".py",
   "mimetype": "text/x-python",
   "name": "python",
   "nbconvert_exporter": "python",
   "pygments_lexer": "ipython2",
   "version": "2.7.13"
  }
 },
 "nbformat": 4,
 "nbformat_minor": 2
}
