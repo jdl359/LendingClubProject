{
 "cells": [
  {
   "cell_type": "markdown",
   "metadata": {},
   "source": [
    "# Final Project\n",
    "## Introduction to Business Analytics\n",
    "Spring 2017 \n",
    "***"
   ]
  },
  {
   "cell_type": "markdown",
   "metadata": {},
   "source": [
    "### Introduction\n",
    "\n",
    "Lending Club is an online credit marketplace that facilitates peer to peer lending by matching up investors and borrowers. Potential borrowers sign up to Lending Club and go through a quick approval process that allows them to request a personal, business, or medical loan.  Investors then make offers to borrowers based on their credit ratings and Lending Club’s suggested interest rates. Borrowers then begin to accept offers and have 15 days to reach a cumulative amount of at least 75% of their requested loan. The risk assessment process is automated and borrowers can begin to receive loan offers within minutes. (Lendingclub.com)\n",
    "\n",
    "### The Business Problem\n",
    "\n",
    "Unlike most banks and traditional lenders, Lending Club has a very flexible prepayment policy. Borrowers can prepay their loan at any time and without incurring a fee. Furthermore, investor fees may be reduced depending on the timing of the prepayment. Investors pay a payment processing fee equal to 1% of their monthly payment. If the loan is prepaid within the first 12 months then the investor only pays 1% of the contractual monthly payment and no fee is paid on the prepaid portion of the loan. However, if the loan is prepaid after the first 12 months then the investor pays a fee of 1% of the entire payment. In other words, if the borrower prepays during the first 12 months, Lending Club will only receive up to 33% and 20% of the total fee on a three- and five-year loan, respectively. If a loan is prepaid after the first 12 months then Lending Club will receive the entire fee. (For simplicity, we assume that any prepayments done during the first 12 months occur at the end of the 12th month.)\n",
    "\n",
    "Prepayments can represent a significant loss in revenue for Lending Club. In its last 10-K, Lending Club reported service fees of 11.5m, 32.8m, and 68.0m dollars for 2014, 2015, and 2016, respectively. Additionally, data analysis shows that approximately X% of loans initiated in 201X were prepaid. This translates into a loss of up to XXM dollars for Lending club in 201X.\n",
    "    \n",
    "As Lending Club grows, the number of loans increase as do the number of prepayments. One solution to the problem is to implement a dynamic prepayment policy that would charge the borrower a prepayment fee based on the probability that the borrower prepays the loan. Lending club could maintain the 0% fee for borrowers less likely to prepay and charge a 1% fee for borrowers more likely to prepay. That way, in addition to protecting itself from a loss, Lending Club would make up to 33% more in fees on loans that were prepaid within the first 12 months."
   ]
  },
  {
   "cell_type": "markdown",
   "metadata": {},
   "source": [
    "### Notes\n",
    "\n",
    "The Data\n",
    "\n",
    "•\tPlease provide some notes (bullets are fine) on the features we selected… I’ll add the discussion about the timing\n",
    "\n",
    "The Target Variable\n",
    "\n",
    "•\tPlease provide the details on how we derive the target feature from current features.\n",
    "\n",
    "Notes for profit curve to be done later:\n",
    "1.\tAssume 100 dollar loan\n",
    "2.\tAssume a probability that a borrower will not take out a loan if they have to pay a prepayment fee – this will represent a potential loss\n",
    "3.\tAssume a fee of 0% or 1%\n",
    "\n",
    "Short cut cheatsheet: https://gist.github.com/kidpixo/f4318f8c8143adee5b40"
   ]
  },
  {
   "cell_type": "markdown",
   "metadata": {},
   "source": [
    "## Approved Applications"
   ]
  },
  {
   "cell_type": "code",
   "execution_count": 2,
   "metadata": {
    "collapsed": false
   },
   "outputs": [
    {
     "name": "stdout",
     "output_type": "stream",
     "text": [
      "Memory : 81.27 MB\n"
     ]
    }
   ],
   "source": [
    "import pandas as pd\n",
    "import numpy as np\n",
    "import matplotlib as plt\n",
    "\n",
    "# For file loading and memory monitoring\n",
    "import os\n",
    "import gc\n",
    "import psutil\n",
    "'''\n",
    "    If you get error saying no module named psutil, run this in terminal :\n",
    "    sudo su\n",
    "    pip install psutil\n",
    "'''\n",
    "\n",
    "# collect garbage and check current memory\n",
    "def collect_and_check_mem():\n",
    "    proc = psutil.Process(os.getpid())\n",
    "    gc.collect()\n",
    "    mem = proc.memory_info().rss\n",
    "    print (\"Memory : %.2f MB\" % (mem / (1000 * 1000)))\n",
    "collect_and_check_mem()"
   ]
  },
  {
   "cell_type": "code",
   "execution_count": 3,
   "metadata": {
    "collapsed": true
   },
   "outputs": [],
   "source": [
    "# data loading util\n",
    "def load_year_data(year, suffixs):\n",
    "    loans_data = pd.DataFrame()\n",
    "    for index in range(len(suffixs)):\n",
    "        suffix = suffixs[index]\n",
    "        path =\"data/loans/%s/xa%s.csv.gz\" % (year, suffix)\n",
    "        if index == 0:\n",
    "            loans_data = pd.read_csv(path, skiprows=1)\n",
    "        else:\n",
    "            frame = pd.read_csv(path, skiprows=0, names=loans_data.columns)\n",
    "            loans_data = loans_data.append(frame, ignore_index=True)\n",
    "            del frame\n",
    "    return loans_data\n",
    "# create suffix from start (e.g. 'a') to end (e.g. 'z')\n",
    "def create_suffixs(start, end):\n",
    "    return [chr(i) for i in range(ord(start), ord(end)+1)]"
   ]
  },
  {
   "cell_type": "code",
   "execution_count": 4,
   "metadata": {
    "collapsed": false
   },
   "outputs": [],
   "source": [
    "\n",
    "#df1 = pd.read_csv(\"data/loans/2007-2011/xaa.csv.gz\",skiprows=1)\n",
    "#df2 = pd.read_csv(\"data/loans/2007-2011/xab.csv.gz\",skiprows=0, names=df1.columns)\n",
    "#loans_2007_2011 = pd.concat([df1,df2])\n",
    "#loans_2007_2011.columns\n",
    "\n",
    "#Reason why memory overflow: \n",
    "#    When we do read and concat, concat actually create a copy with each data frame (data frame is immutable)\n",
    "#    So after concat at least we need to delete the data chunks and do garbage collection:\n",
    "#        del df1\n",
    "#        gc.collect()\n",
    "#    But never mind, we will use load_year_data helper which will load data for each year without keeping temporary data \n",
    "\n",
    "# 'a' to 'b' for 2007-2011\n",
    "# suffixs = create_suffixs('a', 'b')\n",
    "# loans_2007_2011 = load_year_data('2007-2011', suffixs)\n"
   ]
  },
  {
   "cell_type": "code",
   "execution_count": 5,
   "metadata": {
    "collapsed": false
   },
   "outputs": [],
   "source": [
    "# 'a' to 'g' for 2012-2013\n",
    "# suffixs = create_suffixs('a', 'g')\n",
    "# loans_2007_2011 = load_year_data('2012-2013', suffixs)"
   ]
  },
  {
   "cell_type": "code",
   "execution_count": 6,
   "metadata": {
    "collapsed": true
   },
   "outputs": [],
   "source": [
    "# 'a' to 'h' for 2014\n",
    "# suffixs = create_suffixs('a', 'h')\n",
    "# loans_2014 = load_year_data('2012-2013', suffixs)"
   ]
  },
  {
   "cell_type": "code",
   "execution_count": 7,
   "metadata": {
    "collapsed": false
   },
   "outputs": [
    {
     "name": "stderr",
     "output_type": "stream",
     "text": [
      "/usr/local/lib/python3.5/dist-packages/IPython/core/interactiveshell.py:2821: DtypeWarning: Columns (19) have mixed types. Specify dtype option on import or set low_memory=False.\n",
      "  if self.run_code(code, result):\n",
      "/usr/local/lib/python3.5/dist-packages/IPython/core/interactiveshell.py:2821: DtypeWarning: Columns (55) have mixed types. Specify dtype option on import or set low_memory=False.\n",
      "  if self.run_code(code, result):\n"
     ]
    },
    {
     "name": "stdout",
     "output_type": "stream",
     "text": [
      "Memory : 583.70 MB\n"
     ]
    },
    {
     "data": {
      "text/plain": [
       "421097"
      ]
     },
     "execution_count": 7,
     "metadata": {},
     "output_type": "execute_result"
    }
   ],
   "source": [
    "# 'a' to 'o' for 2015\n",
    "suffixs = create_suffixs('a', 'o')\n",
    "loans_2015 = load_year_data('2015', suffixs)\n",
    "collect_and_check_mem()\n",
    "len(loans_2015.index)"
   ]
  },
  {
   "cell_type": "code",
   "execution_count": 8,
   "metadata": {
    "collapsed": false
   },
   "outputs": [],
   "source": [
    "# Before scaling up the instance we can try small set of data\n",
    "# years_info = {\n",
    "#     \"2016Q1\": create_suffixs('a', 'e'), \n",
    "#     #\"2016Q2\": create_suffixs('a', 'd'), \n",
    "#     #\"2016Q3\": create_suffixs('a', 'd'), \n",
    "#     \"2016Q4\": create_suffixs('a', 'd')\n",
    "# }\n",
    "# loans_2016 = pd.DataFrame()\n",
    "# for year in years_info:\n",
    "#     frame = load_year_data(year, years_info[year])\n",
    "#     loans_2016 = loans_2016.append(frame, ignore_index=True)\n",
    "#     collect_and_check_mem()\n",
    "# collect_and_check_mem()\n",
    "# len(loans_2016.index)"
   ]
  },
  {
   "cell_type": "code",
   "execution_count": 9,
   "metadata": {
    "collapsed": false
   },
   "outputs": [],
   "source": [
    "# # Merge any years you want\n",
    "# loans_data = pd.concat([loans_2015, loans_2016])\n",
    "# collect_and_check_mem()\n",
    "\n",
    "# # IMPORTANT: remove the useless temporary frames:\n",
    "# del loans_2015\n",
    "# del loans_2016\n",
    "# collect_and_check_mem()\n",
    "# len(loans_data.index)\n",
    "\n",
    "# While the collected memory of deleted object will not be returned to OS but kept for python\n",
    "# so the memory does not go down as expected, but actually they are available:\n",
    "# reference: http://stackoverflow.com/questions/39100971/how-do-i-release-memory-used-by-a-pandas-dataframe"
   ]
  },
  {
   "cell_type": "code",
   "execution_count": 10,
   "metadata": {
    "collapsed": true
   },
   "outputs": [],
   "source": [
    "# Rename it to loans_data\n",
    "loans_data = loans_2015"
   ]
  },
  {
   "cell_type": "code",
   "execution_count": 11,
   "metadata": {
    "collapsed": false
   },
   "outputs": [],
   "source": [
    "# since too many features, maybe we take out those we wanna keep:\n",
    "features_to_keep = set([\n",
    "    # numerical\n",
    "    'loan_amnt', 'funded_amnt', 'annual_inc', 'installment',\n",
    "    'open_acc', 'total_acc',\n",
    "        # Some of the following line features are duplicates? Do we need them all?\n",
    "        # Say: total_pymnt = total_rec_prncp + total_rec_int\n",
    "    'total_pymnt', 'total_pymnt_inv', 'total_rec_prncp', 'total_rec_int', 'total_rec_late_fee',\n",
    "    'recoveries', 'collection_recovery_fee', \n",
    "    'last_pymnt_amnt',  \n",
    "    \n",
    "    # features used to extract target and drop once that done\n",
    "    'loan_status',\n",
    "    'last_pymnt_d', # used to extract target\n",
    "    'issue_d', # categorical ? Dec-11\n",
    "    \n",
    "    # categorical\n",
    "        #date\n",
    "    'last_credit_pull_d', # 21 NULL values for 2016Q1Q4 same as above, maybe ignore it\n",
    "        #other\n",
    "    'verification_status', 'purpose', 'addr_state',\n",
    "    'grade', 'sub_grade', 'home_ownership', 'term',\n",
    "    \n",
    "    # special\n",
    "    #'title', # 10629 NULLs for 2016 Q1Q4 value maybe forget it\n",
    "    \n",
    "    'int_rate', 'revol_util' # trim out percentage mark: 10.65%\n",
    "    'emp_length', # extracting number: 10+ years < 1 year\n",
    "    \n",
    "    # not sure:\n",
    "    'inq_last_6mths', 'pub_rec', 'revol_bal', 'dti', 'delinq_2yrs', \n",
    "    'pymnt_plan', 'earliest_cr_line' 'initial_list_status',\n",
    "    'out_prncp', 'out_prncp_inv',\n",
    "    'collections_12_mths_ex_med',\n",
    "    'policy_code', 'application_type',\n",
    "    'acc_now_delinq', 'chargeoff_within_12_mths', 'delinq_amnt',\n",
    "    'pub_rec_bankruptcies', 'tax_liens'\n",
    "])"
   ]
  },
  {
   "cell_type": "code",
   "execution_count": 12,
   "metadata": {
    "collapsed": false
   },
   "outputs": [
    {
     "data": {
      "text/plain": [
       "{'acc_now_delinq',\n",
       " 'addr_state',\n",
       " 'annual_inc',\n",
       " 'application_type',\n",
       " 'chargeoff_within_12_mths',\n",
       " 'collection_recovery_fee',\n",
       " 'collections_12_mths_ex_med',\n",
       " 'delinq_2yrs',\n",
       " 'delinq_amnt',\n",
       " 'dti',\n",
       " 'earliest_cr_lineinitial_list_status',\n",
       " 'funded_amnt',\n",
       " 'grade',\n",
       " 'home_ownership',\n",
       " 'inq_last_6mths',\n",
       " 'installment',\n",
       " 'int_rate',\n",
       " 'issue_d',\n",
       " 'last_credit_pull_d',\n",
       " 'last_pymnt_amnt',\n",
       " 'last_pymnt_d',\n",
       " 'loan_amnt',\n",
       " 'loan_status',\n",
       " 'open_acc',\n",
       " 'out_prncp',\n",
       " 'out_prncp_inv',\n",
       " 'policy_code',\n",
       " 'pub_rec',\n",
       " 'pub_rec_bankruptcies',\n",
       " 'purpose',\n",
       " 'pymnt_plan',\n",
       " 'recoveries',\n",
       " 'revol_bal',\n",
       " 'revol_utilemp_length',\n",
       " 'sub_grade',\n",
       " 'tax_liens',\n",
       " 'term',\n",
       " 'total_acc',\n",
       " 'total_pymnt',\n",
       " 'total_pymnt_inv',\n",
       " 'total_rec_int',\n",
       " 'total_rec_late_fee',\n",
       " 'total_rec_prncp',\n",
       " 'verification_status'}"
      ]
     },
     "execution_count": 12,
     "metadata": {},
     "output_type": "execute_result"
    }
   ],
   "source": [
    "features_to_keep"
   ]
  },
  {
   "cell_type": "code",
   "execution_count": 13,
   "metadata": {
    "collapsed": false
   },
   "outputs": [
    {
     "data": {
      "text/plain": [
       "Index(['loan_amnt', 'funded_amnt', 'term', 'int_rate', 'installment', 'grade',\n",
       "       'sub_grade', 'home_ownership', 'annual_inc', 'verification_status',\n",
       "       'issue_d', 'loan_status', 'pymnt_plan', 'purpose', 'addr_state', 'dti',\n",
       "       'delinq_2yrs', 'inq_last_6mths', 'open_acc', 'pub_rec', 'revol_bal',\n",
       "       'total_acc', 'out_prncp', 'out_prncp_inv', 'total_pymnt',\n",
       "       'total_pymnt_inv', 'total_rec_prncp', 'total_rec_int',\n",
       "       'total_rec_late_fee', 'recoveries', 'collection_recovery_fee',\n",
       "       'last_pymnt_d', 'last_pymnt_amnt', 'last_credit_pull_d',\n",
       "       'collections_12_mths_ex_med', 'policy_code', 'application_type',\n",
       "       'acc_now_delinq', 'chargeoff_within_12_mths', 'delinq_amnt',\n",
       "       'pub_rec_bankruptcies', 'tax_liens'],\n",
       "      dtype='object')"
      ]
     },
     "execution_count": 13,
     "metadata": {},
     "output_type": "execute_result"
    }
   ],
   "source": [
    "for column in loans_data.columns:\n",
    "    if column not in features_to_keep:\n",
    "        loans_data = loans_data.drop(column, axis=1)\n",
    "loans_data.columns"
   ]
  },
  {
   "cell_type": "code",
   "execution_count": 14,
   "metadata": {
    "collapsed": false
   },
   "outputs": [
    {
     "data": {
      "text/plain": [
       "loan_amnt                       2\n",
       "funded_amnt                     2\n",
       "term                            2\n",
       "int_rate                        2\n",
       "installment                     2\n",
       "grade                           2\n",
       "sub_grade                       2\n",
       "home_ownership                  2\n",
       "annual_inc                      2\n",
       "verification_status             2\n",
       "issue_d                         2\n",
       "loan_status                     2\n",
       "pymnt_plan                      2\n",
       "purpose                         2\n",
       "addr_state                      2\n",
       "dti                             2\n",
       "delinq_2yrs                     2\n",
       "inq_last_6mths                  2\n",
       "open_acc                        2\n",
       "pub_rec                         2\n",
       "revol_bal                       2\n",
       "total_acc                       2\n",
       "out_prncp                       2\n",
       "out_prncp_inv                   2\n",
       "total_pymnt                     2\n",
       "total_pymnt_inv                 2\n",
       "total_rec_prncp                 2\n",
       "total_rec_int                   2\n",
       "total_rec_late_fee              2\n",
       "recoveries                      2\n",
       "collection_recovery_fee         2\n",
       "last_pymnt_d                  296\n",
       "last_pymnt_amnt                 2\n",
       "last_credit_pull_d             10\n",
       "collections_12_mths_ex_med      2\n",
       "policy_code                     2\n",
       "application_type                2\n",
       "acc_now_delinq                  2\n",
       "chargeoff_within_12_mths        2\n",
       "delinq_amnt                     2\n",
       "pub_rec_bankruptcies            2\n",
       "tax_liens                       2\n",
       "dtype: int64"
      ]
     },
     "execution_count": 14,
     "metadata": {},
     "output_type": "execute_result"
    }
   ],
   "source": [
    "# Check NULL\n",
    "loans_data.isnull().sum()"
   ]
  },
  {
   "cell_type": "code",
   "execution_count": 15,
   "metadata": {
    "collapsed": false,
    "scrolled": true
   },
   "outputs": [
    {
     "data": {
      "text/plain": [
       "420793"
      ]
     },
     "execution_count": 15,
     "metadata": {},
     "output_type": "execute_result"
    }
   ],
   "source": [
    "# Drop rows with NULL values:\n",
    "loans_data = loans_data.dropna()\n",
    "total_num = len(loans_data.index)\n",
    "#loans_data.isnull().sum()\n",
    "total_num"
   ]
  },
  {
   "cell_type": "code",
   "execution_count": 16,
   "metadata": {
    "collapsed": false
   },
   "outputs": [
    {
     "data": {
      "text/plain": [
       "array([' 60 months', ' 36 months'], dtype=object)"
      ]
     },
     "execution_count": 16,
     "metadata": {},
     "output_type": "execute_result"
    }
   ],
   "source": [
    "loans_data[\"term\"].unique()"
   ]
  },
  {
   "cell_type": "code",
   "execution_count": 17,
   "metadata": {
    "collapsed": false,
    "scrolled": true
   },
   "outputs": [
    {
     "data": {
      "text/plain": [
       "array(['Feb-2017', 'Jun-2016', 'Oct-2016', 'Jul-2016', 'Nov-2016',\n",
       "       'Jan-2017', 'Dec-2016', 'Apr-2016', 'Aug-2016', 'Mar-2016',\n",
       "       'Sep-2016', 'May-2016', 'Feb-2016', 'Jan-2016', 'Dec-2015',\n",
       "       'Nov-2015', 'Oct-2015', 'Sep-2015', 'Aug-2015', 'Jul-2015',\n",
       "       'Jun-2015', 'May-2015', 'Apr-2015', 'Mar-2015', 'Feb-2015',\n",
       "       'Jan-2015'], dtype=object)"
      ]
     },
     "execution_count": 17,
     "metadata": {},
     "output_type": "execute_result"
    }
   ],
   "source": [
    "loans_data[\"last_pymnt_d\"].unique()"
   ]
  },
  {
   "cell_type": "code",
   "execution_count": 18,
   "metadata": {
    "collapsed": false
   },
   "outputs": [
    {
     "data": {
      "text/plain": [
       "array(['Dec-2015', 'Nov-2015', 'Oct-2015', 'Sep-2015', 'Aug-2015',\n",
       "       'Jul-2015', 'Jun-2015', 'May-2015', 'Apr-2015', 'Mar-2015',\n",
       "       'Feb-2015', 'Jan-2015'], dtype=object)"
      ]
     },
     "execution_count": 18,
     "metadata": {},
     "output_type": "execute_result"
    }
   ],
   "source": [
    "loans_data[\"issue_d\"].unique()"
   ]
  },
  {
   "cell_type": "code",
   "execution_count": 19,
   "metadata": {
    "collapsed": false
   },
   "outputs": [
    {
     "data": {
      "text/plain": [
       "array(['Current', 'Fully Paid', 'Default', 'Charged Off',\n",
       "       'Late (16-30 days)', 'Late (31-120 days)', 'In Grace Period'], dtype=object)"
      ]
     },
     "execution_count": 19,
     "metadata": {},
     "output_type": "execute_result"
    }
   ],
   "source": [
    "loans_data[\"loan_status\"].unique()"
   ]
  },
  {
   "cell_type": "code",
   "execution_count": 20,
   "metadata": {
    "collapsed": false
   },
   "outputs": [],
   "source": [
    "# Target creation\n",
    "from datetime import datetime\n",
    "from random import randint\n",
    "\n",
    "Y = [] # pre_paid : 1   not pre_paid : 0\n",
    "for index in range(total_num):\n",
    "    df = loans_data.iloc[index]\n",
    "    if df[\"loan_status\"] == \"Fully Paid\":\n",
    "        time1 = datetime.strptime(df[\"issue_d\"], '%b-%Y')\n",
    "        time2 = datetime.strptime(df[\"last_pymnt_d\"], '%b-%Y')\n",
    "        diff = abs(time1 - time2).days\n",
    "        if diff < 366:\n",
    "            Y.insert(len(Y),1)    \n",
    "        else:\n",
    "            Y.insert(len(Y),0)\n",
    "    else:\n",
    "        Y.insert(len(Y),0)"
   ]
  },
  {
   "cell_type": "code",
   "execution_count": 21,
   "metadata": {
    "collapsed": false
   },
   "outputs": [
    {
     "data": {
      "text/plain": [
       "420793"
      ]
     },
     "execution_count": 21,
     "metadata": {},
     "output_type": "execute_result"
    }
   ],
   "source": [
    "#Target\n",
    "len(Y)"
   ]
  },
  {
   "cell_type": "code",
   "execution_count": 22,
   "metadata": {
    "collapsed": false
   },
   "outputs": [],
   "source": [
    "#convert 'grade','subgrade' and 'verification status' into numerical values\n",
    "loans_data['grade'].replace(['A', 'B', 'C', 'D', 'E', 'F', 'G'], [1,2,3,4,5,6,7], inplace = True)\n",
    "loans_data['sub_grade'].replace(['A1','A2','A3','A4','A5','B1','B2','B3','B4','B5','C1','C2','C3','C4','C5','D1','D2','D3','D4','D5','E1','E2','E3','E4','E5','F1','F2','F3','F4','F5','G1','G2','G3','G4','G5'\n",
    "], [1,2,3,4,5,6,7,8,9,10,11,12,13,14,15,16,17,18,19,20,21,22,23,24,25,26,27,28,29,30,31,32,33,34,35], inplace = True)\n",
    "loans_data['verification_status'].replace(['Not Verified', 'Source Verified', 'Verified'], [0,1,2], inplace = True)"
   ]
  },
  {
   "cell_type": "code",
   "execution_count": 23,
   "metadata": {
    "collapsed": false
   },
   "outputs": [],
   "source": [
    "#convert 'pymnt_plan' to numeric values\n",
    "loans_data['pymnt_plan']=pd.Series(loans_data['pymnt_plan'] =='y',dtype=int)"
   ]
  },
  {
   "cell_type": "code",
   "execution_count": 24,
   "metadata": {
    "collapsed": true
   },
   "outputs": [],
   "source": [
    "# Rename it to loans_data2 before dropping variables for dummy variable creation\n",
    "loans_data2 = loans_data"
   ]
  },
  {
   "cell_type": "code",
   "execution_count": 25,
   "metadata": {
    "collapsed": true
   },
   "outputs": [],
   "source": [
    "#creating dummy variables for 'term', 'home_ownership', 'purpose' and 'application type'\n",
    "for field in ['term','home_ownership', 'purpose', 'application_type']:\n",
    "    for value in loans_data2[field].unique():\n",
    "        loans_data2[field + \" _ \" + value] = pd.Series(loans_data2[field]==value, dtype=int)\n",
    "    loans_data2 = loans_data2.drop([field], axis=1)"
   ]
  },
  {
   "cell_type": "code",
   "execution_count": 28,
   "metadata": {
    "collapsed": false
   },
   "outputs": [
    {
     "data": {
      "text/plain": [
       "(420793, 60)"
      ]
     },
     "execution_count": 28,
     "metadata": {},
     "output_type": "execute_result"
    }
   ],
   "source": [
    "loans_data2.shape"
   ]
  },
  {
   "cell_type": "code",
   "execution_count": 29,
   "metadata": {
    "collapsed": false
   },
   "outputs": [
    {
     "data": {
      "text/plain": [
       "Index(['loan_amnt', 'funded_amnt', 'int_rate', 'installment', 'grade',\n",
       "       'sub_grade', 'annual_inc', 'verification_status', 'issue_d',\n",
       "       'loan_status', 'pymnt_plan', 'addr_state', 'dti', 'delinq_2yrs',\n",
       "       'inq_last_6mths', 'open_acc', 'pub_rec', 'revol_bal', 'total_acc',\n",
       "       'out_prncp', 'out_prncp_inv', 'total_pymnt', 'total_pymnt_inv',\n",
       "       'total_rec_prncp', 'total_rec_int', 'total_rec_late_fee', 'recoveries',\n",
       "       'collection_recovery_fee', 'last_pymnt_d', 'last_pymnt_amnt',\n",
       "       'last_credit_pull_d', 'collections_12_mths_ex_med', 'policy_code',\n",
       "       'acc_now_delinq', 'chargeoff_within_12_mths', 'delinq_amnt',\n",
       "       'pub_rec_bankruptcies', 'tax_liens', 'term _  60 months',\n",
       "       'term _  36 months', 'home_ownership _ MORTGAGE',\n",
       "       'home_ownership _ RENT', 'home_ownership _ OWN', 'home_ownership _ ANY',\n",
       "       'purpose _ credit_card', 'purpose _ debt_consolidation',\n",
       "       'purpose _ small_business', 'purpose _ car', 'purpose _ other',\n",
       "       'purpose _ home_improvement', 'purpose _ medical',\n",
       "       'purpose _ major_purchase', 'purpose _ house', 'purpose _ vacation',\n",
       "       'purpose _ moving', 'purpose _ renewable_energy', 'purpose _ wedding',\n",
       "       'purpose _ educational', 'application_type _ INDIVIDUAL',\n",
       "       'application_type _ JOINT'],\n",
       "      dtype='object')"
      ]
     },
     "execution_count": 29,
     "metadata": {},
     "output_type": "execute_result"
    }
   ],
   "source": [
    "loans_data2.columns"
   ]
  },
  {
   "cell_type": "code",
   "execution_count": 30,
   "metadata": {
    "collapsed": true
   },
   "outputs": [],
   "source": [
    "#add target to the data\n",
    "loans_data2['Target']=Y"
   ]
  },
  {
   "cell_type": "code",
   "execution_count": 31,
   "metadata": {
    "collapsed": false
   },
   "outputs": [
    {
     "data": {
      "text/plain": [
       "(420793, 61)"
      ]
     },
     "execution_count": 31,
     "metadata": {},
     "output_type": "execute_result"
    }
   ],
   "source": [
    "loans_data2.shape"
   ]
  },
  {
   "cell_type": "code",
   "execution_count": 32,
   "metadata": {
    "collapsed": true
   },
   "outputs": [],
   "source": [
    "#remove date and state fields\n",
    "for field in ['issue_d', 'loan_status', 'addr_state', 'last_pymnt_d', 'last_credit_pull_d']:\n",
    "    loans_data2 = loans_data2.drop([field], axis=1)"
   ]
  },
  {
   "cell_type": "code",
   "execution_count": 33,
   "metadata": {
    "collapsed": false
   },
   "outputs": [
    {
     "data": {
      "text/plain": [
       "(420793, 56)"
      ]
     },
     "execution_count": 33,
     "metadata": {},
     "output_type": "execute_result"
    }
   ],
   "source": [
    "loans_data2.shape"
   ]
  },
  {
   "cell_type": "code",
   "execution_count": 34,
   "metadata": {
    "collapsed": false
   },
   "outputs": [
    {
     "data": {
      "text/plain": [
       "dtype('O')"
      ]
     },
     "execution_count": 34,
     "metadata": {},
     "output_type": "execute_result"
    }
   ],
   "source": [
    "loans_data2['int_rate'].dtypes"
   ]
  },
  {
   "cell_type": "code",
   "execution_count": 35,
   "metadata": {
    "collapsed": false
   },
   "outputs": [
    {
     "data": {
      "text/html": [
       "<div>\n",
       "<table border=\"1\" class=\"dataframe\">\n",
       "  <thead>\n",
       "    <tr style=\"text-align: right;\">\n",
       "      <th></th>\n",
       "      <th>loan_amnt</th>\n",
       "      <th>funded_amnt</th>\n",
       "      <th>int_rate</th>\n",
       "      <th>installment</th>\n",
       "      <th>grade</th>\n",
       "      <th>sub_grade</th>\n",
       "      <th>annual_inc</th>\n",
       "      <th>verification_status</th>\n",
       "      <th>pymnt_plan</th>\n",
       "      <th>dti</th>\n",
       "      <th>...</th>\n",
       "      <th>purpose _ major_purchase</th>\n",
       "      <th>purpose _ house</th>\n",
       "      <th>purpose _ vacation</th>\n",
       "      <th>purpose _ moving</th>\n",
       "      <th>purpose _ renewable_energy</th>\n",
       "      <th>purpose _ wedding</th>\n",
       "      <th>purpose _ educational</th>\n",
       "      <th>application_type _ INDIVIDUAL</th>\n",
       "      <th>application_type _ JOINT</th>\n",
       "      <th>Target</th>\n",
       "    </tr>\n",
       "  </thead>\n",
       "  <tbody>\n",
       "    <tr>\n",
       "      <th>0</th>\n",
       "      <td>16000.0</td>\n",
       "      <td>16000.0</td>\n",
       "      <td>8.49%</td>\n",
       "      <td>328.19</td>\n",
       "      <td>2</td>\n",
       "      <td>6</td>\n",
       "      <td>62000.0</td>\n",
       "      <td>1</td>\n",
       "      <td>0</td>\n",
       "      <td>28.92</td>\n",
       "      <td>...</td>\n",
       "      <td>0</td>\n",
       "      <td>0</td>\n",
       "      <td>0</td>\n",
       "      <td>0</td>\n",
       "      <td>0</td>\n",
       "      <td>0</td>\n",
       "      <td>0</td>\n",
       "      <td>1</td>\n",
       "      <td>0</td>\n",
       "      <td>0</td>\n",
       "    </tr>\n",
       "    <tr>\n",
       "      <th>1</th>\n",
       "      <td>8000.0</td>\n",
       "      <td>8000.0</td>\n",
       "      <td>10.78%</td>\n",
       "      <td>261.08</td>\n",
       "      <td>2</td>\n",
       "      <td>9</td>\n",
       "      <td>45000.0</td>\n",
       "      <td>0</td>\n",
       "      <td>0</td>\n",
       "      <td>21.23</td>\n",
       "      <td>...</td>\n",
       "      <td>0</td>\n",
       "      <td>0</td>\n",
       "      <td>0</td>\n",
       "      <td>0</td>\n",
       "      <td>0</td>\n",
       "      <td>0</td>\n",
       "      <td>0</td>\n",
       "      <td>1</td>\n",
       "      <td>0</td>\n",
       "      <td>0</td>\n",
       "    </tr>\n",
       "    <tr>\n",
       "      <th>2</th>\n",
       "      <td>10000.0</td>\n",
       "      <td>10000.0</td>\n",
       "      <td>10.78%</td>\n",
       "      <td>326.35</td>\n",
       "      <td>2</td>\n",
       "      <td>9</td>\n",
       "      <td>41600.0</td>\n",
       "      <td>0</td>\n",
       "      <td>0</td>\n",
       "      <td>15.78</td>\n",
       "      <td>...</td>\n",
       "      <td>0</td>\n",
       "      <td>0</td>\n",
       "      <td>0</td>\n",
       "      <td>0</td>\n",
       "      <td>0</td>\n",
       "      <td>0</td>\n",
       "      <td>0</td>\n",
       "      <td>1</td>\n",
       "      <td>0</td>\n",
       "      <td>0</td>\n",
       "    </tr>\n",
       "    <tr>\n",
       "      <th>3</th>\n",
       "      <td>24700.0</td>\n",
       "      <td>24700.0</td>\n",
       "      <td>11.99%</td>\n",
       "      <td>820.28</td>\n",
       "      <td>3</td>\n",
       "      <td>11</td>\n",
       "      <td>65000.0</td>\n",
       "      <td>0</td>\n",
       "      <td>0</td>\n",
       "      <td>16.06</td>\n",
       "      <td>...</td>\n",
       "      <td>0</td>\n",
       "      <td>0</td>\n",
       "      <td>0</td>\n",
       "      <td>0</td>\n",
       "      <td>0</td>\n",
       "      <td>0</td>\n",
       "      <td>0</td>\n",
       "      <td>1</td>\n",
       "      <td>0</td>\n",
       "      <td>1</td>\n",
       "    </tr>\n",
       "    <tr>\n",
       "      <th>4</th>\n",
       "      <td>10000.0</td>\n",
       "      <td>10000.0</td>\n",
       "      <td>11.99%</td>\n",
       "      <td>222.40</td>\n",
       "      <td>3</td>\n",
       "      <td>11</td>\n",
       "      <td>42500.0</td>\n",
       "      <td>0</td>\n",
       "      <td>0</td>\n",
       "      <td>31.04</td>\n",
       "      <td>...</td>\n",
       "      <td>0</td>\n",
       "      <td>0</td>\n",
       "      <td>0</td>\n",
       "      <td>0</td>\n",
       "      <td>0</td>\n",
       "      <td>0</td>\n",
       "      <td>0</td>\n",
       "      <td>1</td>\n",
       "      <td>0</td>\n",
       "      <td>0</td>\n",
       "    </tr>\n",
       "  </tbody>\n",
       "</table>\n",
       "<p>5 rows × 56 columns</p>\n",
       "</div>"
      ],
      "text/plain": [
       "   loan_amnt  funded_amnt int_rate  installment  grade  sub_grade  annual_inc  \\\n",
       "0    16000.0      16000.0    8.49%       328.19      2          6     62000.0   \n",
       "1     8000.0       8000.0   10.78%       261.08      2          9     45000.0   \n",
       "2    10000.0      10000.0   10.78%       326.35      2          9     41600.0   \n",
       "3    24700.0      24700.0   11.99%       820.28      3         11     65000.0   \n",
       "4    10000.0      10000.0   11.99%       222.40      3         11     42500.0   \n",
       "\n",
       "   verification_status  pymnt_plan    dti   ...    purpose _ major_purchase  \\\n",
       "0                    1           0  28.92   ...                           0   \n",
       "1                    0           0  21.23   ...                           0   \n",
       "2                    0           0  15.78   ...                           0   \n",
       "3                    0           0  16.06   ...                           0   \n",
       "4                    0           0  31.04   ...                           0   \n",
       "\n",
       "   purpose _ house  purpose _ vacation  purpose _ moving  \\\n",
       "0                0                   0                 0   \n",
       "1                0                   0                 0   \n",
       "2                0                   0                 0   \n",
       "3                0                   0                 0   \n",
       "4                0                   0                 0   \n",
       "\n",
       "   purpose _ renewable_energy  purpose _ wedding  purpose _ educational  \\\n",
       "0                           0                  0                      0   \n",
       "1                           0                  0                      0   \n",
       "2                           0                  0                      0   \n",
       "3                           0                  0                      0   \n",
       "4                           0                  0                      0   \n",
       "\n",
       "   application_type _ INDIVIDUAL  application_type _ JOINT  Target  \n",
       "0                              1                         0       0  \n",
       "1                              1                         0       0  \n",
       "2                              1                         0       0  \n",
       "3                              1                         0       1  \n",
       "4                              1                         0       0  \n",
       "\n",
       "[5 rows x 56 columns]"
      ]
     },
     "execution_count": 35,
     "metadata": {},
     "output_type": "execute_result"
    }
   ],
   "source": [
    "loans_data2.head()"
   ]
  },
  {
   "cell_type": "code",
   "execution_count": 36,
   "metadata": {
    "collapsed": true
   },
   "outputs": [],
   "source": [
    "#convert 'int_rate' field to float\n",
    "loans_data2['int_rate'] = loans_data2['int_rate'].replace('\\%','', regex=True).astype(float)"
   ]
  },
  {
   "cell_type": "code",
   "execution_count": 37,
   "metadata": {
    "collapsed": false
   },
   "outputs": [
    {
     "data": {
      "text/plain": [
       "dtype('float64')"
      ]
     },
     "execution_count": 37,
     "metadata": {},
     "output_type": "execute_result"
    }
   ],
   "source": [
    "loans_data2['int_rate'].dtypes"
   ]
  },
  {
   "cell_type": "code",
   "execution_count": 38,
   "metadata": {
    "collapsed": true
   },
   "outputs": [],
   "source": [
    "#Separating the labels\n",
    "Y=loans_data2['Target']"
   ]
  },
  {
   "cell_type": "code",
   "execution_count": 39,
   "metadata": {
    "collapsed": false
   },
   "outputs": [
    {
     "data": {
      "text/plain": [
       "(420793, 56)"
      ]
     },
     "execution_count": 39,
     "metadata": {},
     "output_type": "execute_result"
    }
   ],
   "source": [
    "loans_data2.shape"
   ]
  },
  {
   "cell_type": "code",
   "execution_count": 40,
   "metadata": {
    "collapsed": true
   },
   "outputs": [],
   "source": [
    "loans_data2.drop('Target', axis=1, inplace = True)"
   ]
  },
  {
   "cell_type": "code",
   "execution_count": 41,
   "metadata": {
    "collapsed": false
   },
   "outputs": [
    {
     "data": {
      "text/plain": [
       "(420793, 55)"
      ]
     },
     "execution_count": 41,
     "metadata": {},
     "output_type": "execute_result"
    }
   ],
   "source": [
    "loans_data2.shape"
   ]
  },
  {
   "cell_type": "code",
   "execution_count": 42,
   "metadata": {
    "collapsed": true
   },
   "outputs": [],
   "source": [
    "#initiate model development\n",
    "import numpy as np\n",
    "import pandas as pd\n",
    "from sklearn.linear_model import LogisticRegression\n",
    "from sklearn.svm import SVC\n",
    "from sklearn import metrics\n",
    "from sklearn.preprocessing import scale"
   ]
  },
  {
   "cell_type": "code",
   "execution_count": 43,
   "metadata": {
    "collapsed": false
   },
   "outputs": [],
   "source": [
    "#Scaling the data\n",
    "X_Scaled = pd.DataFrame(scale(loans_data2, axis=0, with_mean=True, with_std=True, copy=True), columns = loans_data2.columns.values)"
   ]
  },
  {
   "cell_type": "code",
   "execution_count": 44,
   "metadata": {
    "collapsed": false
   },
   "outputs": [
    {
     "data": {
      "text/plain": [
       "(420793, 55)"
      ]
     },
     "execution_count": 44,
     "metadata": {},
     "output_type": "execute_result"
    }
   ],
   "source": [
    "X_Scaled.shape"
   ]
  },
  {
   "cell_type": "code",
   "execution_count": 45,
   "metadata": {
    "collapsed": true
   },
   "outputs": [],
   "source": [
    "from sklearn.tree import DecisionTreeClassifier\n",
    "from sklearn.linear_model import LogisticRegression\n",
    "from sklearn.svm import SVC\n",
    "from sklearn import metrics\n",
    "from sklearn.model_selection import cross_val_score\n",
    "from sklearn.model_selection import train_test_split"
   ]
  },
  {
   "cell_type": "code",
   "execution_count": 48,
   "metadata": {
    "collapsed": false
   },
   "outputs": [],
   "source": [
    "X_train, X_test, Y_train, Y_test = train_test_split(X_Scaled, Y, train_size=0.10)"
   ]
  },
  {
   "cell_type": "code",
   "execution_count": 49,
   "metadata": {
    "collapsed": false
   },
   "outputs": [],
   "source": [
    "#logistic regression model\n",
    "LR_model = LogisticRegression()"
   ]
  },
  {
   "cell_type": "code",
   "execution_count": 50,
   "metadata": {
    "collapsed": false
   },
   "outputs": [
    {
     "data": {
      "text/plain": [
       "LogisticRegression(C=1.0, class_weight=None, dual=False, fit_intercept=True,\n",
       "          intercept_scaling=1, max_iter=100, multi_class='ovr', n_jobs=1,\n",
       "          penalty='l2', random_state=None, solver='liblinear', tol=0.0001,\n",
       "          verbose=0, warm_start=False)"
      ]
     },
     "execution_count": 50,
     "metadata": {},
     "output_type": "execute_result"
    }
   ],
   "source": [
    "LR_model.fit(X_train, Y_train)"
   ]
  },
  {
   "cell_type": "code",
   "execution_count": 51,
   "metadata": {
    "collapsed": false
   },
   "outputs": [
    {
     "name": "stdout",
     "output_type": "stream",
     "text": [
      "0.971118046864\n"
     ]
    }
   ],
   "source": [
    "logistic_regression_accuracy = metrics.accuracy_score(LR_model.predict(X_test), Y_test)\n",
    "print(logistic_regression_accuracy)"
   ]
  },
  {
   "cell_type": "code",
   "execution_count": 54,
   "metadata": {
    "collapsed": false
   },
   "outputs": [
    {
     "data": {
      "text/plain": [
       "array([[ -5.01953620e+00,  -5.01953620e+00,   1.79584098e+00,\n",
       "          3.33844672e+00,  -1.91258223e-01,   1.38833059e-01,\n",
       "         -6.62822455e-03,   1.99230991e-02,   3.56006129e-02,\n",
       "         -2.16948672e-01,   7.08385398e-03,  -4.76689974e-02,\n",
       "         -6.89079008e-02,  -1.35345177e-01,  -9.68349253e-02,\n",
       "          1.50291736e-01,  -1.51693797e+00,  -1.50858052e+00,\n",
       "          1.26964552e+00,   1.26113503e+00,   4.31552549e+00,\n",
       "         -9.75889572e+00,  -5.24881771e-03,  -1.12890595e+00,\n",
       "         -1.18997287e+00,   1.76184503e+00,  -5.64635122e-03,\n",
       "          0.00000000e+00,  -2.52790248e-02,  -2.96174833e-02,\n",
       "         -3.29179326e-01,   1.19696535e-01,   1.04352499e-01,\n",
       "          7.50192402e-01,  -7.50192402e-01,   1.08369663e-02,\n",
       "          1.90419801e-02,  -4.76131575e-02,   3.56006129e-02,\n",
       "          4.47142128e-03,   1.50635979e-02,  -1.97427871e-04,\n",
       "          1.55702335e-03,  -5.49910370e-02,   3.62769098e-02,\n",
       "         -1.19874370e-02,  -4.02693001e-03,  -5.52093438e-03,\n",
       "         -5.94184064e-03,  -5.71604304e-02,  -1.05666826e-03,\n",
       "          4.91119584e-02,   2.51734049e-02,   6.71330160e-02,\n",
       "         -6.71330160e-02]])"
      ]
     },
     "execution_count": 54,
     "metadata": {},
     "output_type": "execute_result"
    }
   ],
   "source": [
    "LR_model.coef_"
   ]
  },
  {
   "cell_type": "code",
   "execution_count": null,
   "metadata": {
    "collapsed": true
   },
   "outputs": [],
   "source": []
  },
  {
   "cell_type": "code",
   "execution_count": null,
   "metadata": {
    "collapsed": true
   },
   "outputs": [],
   "source": []
  },
  {
   "cell_type": "code",
   "execution_count": null,
   "metadata": {
    "collapsed": true
   },
   "outputs": [],
   "source": []
  },
  {
   "cell_type": "code",
   "execution_count": null,
   "metadata": {
    "collapsed": true
   },
   "outputs": [],
   "source": []
  },
  {
   "cell_type": "code",
   "execution_count": null,
   "metadata": {
    "collapsed": true
   },
   "outputs": [],
   "source": []
  },
  {
   "cell_type": "markdown",
   "metadata": {},
   "source": [
    "## Rejected applications (deprecated)"
   ]
  },
  {
   "cell_type": "code",
   "execution_count": null,
   "metadata": {
    "collapsed": false
   },
   "outputs": [],
   "source": [
    "import pandas as pd\n",
    "import numpy as np\n",
    "import matplotlib as plt\n",
    "\n",
    "reject_2007_2012 = pd.read_csv(\"data/rejected/2007-2012/RejectStatsA.csv.gz\",skiprows=1)\n",
    "\n",
    "#df1 = pd.read_csv(\"data/rejected/2013-2014/xaa.csv.gz\",skiprows=1)\n",
    "#df2 = pd.read_csv(\"data/rejected/2013-2014/xab.csv.gz\",skiprows=0,names=df1.columns)\n",
    "#reject_2013_2014 = pd.concat([df1,df2])\n",
    "\n",
    "#df2 = pd.read_csv(\"data/rejected/2015/xaa.csv.gz\",skiprows=1)\n",
    "#df2 = pd.read_csv(\"data/rejected/2015/xab.csv.gz\",skiprows=0, names=df1.columns)\n",
    "#reject_2015 = pd.concat([df1,df2])\n",
    "\n",
    "#reject_2016Q1 = pd.read_csv(\"data/rejected/2016Q1/RejectStats_2016Q1.csv.gz\",skiprows=1)\n",
    "\n",
    "#reject_2016Q2 = pd.read_csv(\"data/rejected/2016Q2/RejectStats_2016Q2.csv.gz\",skiprows=1)\n",
    "\n",
    "#reject_2016Q3 = pd.read_csv(\"data/rejected/2016Q3/RejectStats_2016Q3.csv.gz\",skiprows=1)\n",
    "\n",
    "#reject_2016Q4 = pd.read_csv(\"data/rejected/2016Q4/RejectStats_2016Q4.csv.gz\",skiprows=1)\n",
    "\n",
    "\n"
   ]
  },
  {
   "cell_type": "code",
   "execution_count": null,
   "metadata": {
    "collapsed": false
   },
   "outputs": [],
   "source": [
    "reject_2007_2012.columns"
   ]
  },
  {
   "cell_type": "code",
   "execution_count": null,
   "metadata": {
    "collapsed": false
   },
   "outputs": [],
   "source": [
    "reject_2007_2012.describe()"
   ]
  },
  {
   "cell_type": "code",
   "execution_count": null,
   "metadata": {
    "collapsed": true
   },
   "outputs": [],
   "source": []
  }
 ],
 "metadata": {
  "kernelspec": {
   "display_name": "Python 3",
   "language": "python",
   "name": "python3"
  },
  "language_info": {
   "codemirror_mode": {
    "name": "ipython",
    "version": 3
   },
   "file_extension": ".py",
   "mimetype": "text/x-python",
   "name": "python",
   "nbconvert_exporter": "python",
   "pygments_lexer": "ipython3",
   "version": "3.5.2"
  }
 },
 "nbformat": 4,
 "nbformat_minor": 2
}
